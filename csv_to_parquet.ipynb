{
 "cells": [
  {
   "cell_type": "markdown",
   "metadata": {},
   "source": [
    "# Dependências"
   ]
  },
  {
   "cell_type": "code",
   "execution_count": 1,
   "metadata": {},
   "outputs": [
    {
     "name": "stdout",
     "output_type": "stream",
     "text": [
      "Collecting pyarrow\n",
      "  Downloading pyarrow-6.0.0-cp38-cp38-win_amd64.whl (15.5 MB)\n",
      "Requirement already satisfied: numpy>=1.16.6 in c:\\users\\tield\\anaconda3\\lib\\site-packages (from pyarrow) (1.19.5)\n",
      "Installing collected packages: pyarrow\n",
      "Successfully installed pyarrow-6.0.0\n"
     ]
    },
    {
     "name": "stderr",
     "output_type": "stream",
     "text": [
      "WARNING: Ignoring invalid distribution -cikit-learn (c:\\users\\tield\\anaconda3\\lib\\site-packages)\n",
      "WARNING: Ignoring invalid distribution -cikit-learn (c:\\users\\tield\\anaconda3\\lib\\site-packages)\n",
      "WARNING: Ignoring invalid distribution -cikit-learn (c:\\users\\tield\\anaconda3\\lib\\site-packages)\n",
      "WARNING: Ignoring invalid distribution -cikit-learn (c:\\users\\tield\\anaconda3\\lib\\site-packages)\n",
      "WARNING: Ignoring invalid distribution -cikit-learn (c:\\users\\tield\\anaconda3\\lib\\site-packages)\n",
      "WARNING: Ignoring invalid distribution -cikit-learn (c:\\users\\tield\\anaconda3\\lib\\site-packages)\n"
     ]
    }
   ],
   "source": [
    "!pip install pyarrow"
   ]
  },
  {
   "cell_type": "code",
   "execution_count": 2,
   "metadata": {},
   "outputs": [
    {
     "name": "stdout",
     "output_type": "stream",
     "text": [
      "Requirement already satisfied: fastparquet in c:\\users\\tield\\anaconda3\\lib\\site-packages (0.7.1)\n",
      "Requirement already satisfied: pandas>=1.1.0 in c:\\users\\tield\\anaconda3\\lib\\site-packages (from fastparquet) (1.2.4)\n",
      "Requirement already satisfied: cramjam>=2.3.0 in c:\\users\\tield\\anaconda3\\lib\\site-packages (from fastparquet) (2.4.0)\n",
      "Requirement already satisfied: thrift>=0.11.0 in c:\\users\\tield\\anaconda3\\lib\\site-packages (from fastparquet) (0.15.0)\n",
      "Requirement already satisfied: numpy>=1.18 in c:\\users\\tield\\anaconda3\\lib\\site-packages (from fastparquet) (1.19.5)\n",
      "Requirement already satisfied: fsspec in c:\\users\\tield\\anaconda3\\lib\\site-packages (from fastparquet) (0.9.0)\n",
      "Requirement already satisfied: pytz>=2017.3 in c:\\users\\tield\\anaconda3\\lib\\site-packages (from pandas>=1.1.0->fastparquet) (2021.1)\n",
      "Requirement already satisfied: python-dateutil>=2.7.3 in c:\\users\\tield\\anaconda3\\lib\\site-packages (from pandas>=1.1.0->fastparquet) (2.8.1)\n",
      "Requirement already satisfied: six>=1.7.2 in c:\\users\\tield\\anaconda3\\lib\\site-packages (from thrift>=0.11.0->fastparquet) (1.15.0)\n"
     ]
    },
    {
     "name": "stderr",
     "output_type": "stream",
     "text": [
      "WARNING: Ignoring invalid distribution -cikit-learn (c:\\users\\tield\\anaconda3\\lib\\site-packages)\n",
      "WARNING: Ignoring invalid distribution -cikit-learn (c:\\users\\tield\\anaconda3\\lib\\site-packages)\n",
      "WARNING: Ignoring invalid distribution -cikit-learn (c:\\users\\tield\\anaconda3\\lib\\site-packages)\n",
      "WARNING: Ignoring invalid distribution -cikit-learn (c:\\users\\tield\\anaconda3\\lib\\site-packages)\n",
      "WARNING: Ignoring invalid distribution -cikit-learn (c:\\users\\tield\\anaconda3\\lib\\site-packages)\n"
     ]
    }
   ],
   "source": [
    "!pip install fastparquet"
   ]
  },
  {
   "cell_type": "markdown",
   "metadata": {},
   "source": [
    "# Bibliotecas"
   ]
  },
  {
   "cell_type": "code",
   "execution_count": 1,
   "metadata": {},
   "outputs": [],
   "source": [
    "import numpy as np\n",
    "import pandas as pd"
   ]
  },
  {
   "cell_type": "code",
   "execution_count": 3,
   "metadata": {},
   "outputs": [],
   "source": [
    "#Salvando o mapeamento dos pois\n",
    "\n",
    "n = 0\n",
    "wgt = 0.5\n",
    "\n",
    "for n in range(10, 27):\n",
    "    ctuples = pd.read_csv('C:/Users/tield/Documents/Place2vec Experiments/Austin/w05/austin-sl-tuple-n-itdl-' + str(n) + 'bin-wgt' + str(wgt) + '-p.csv')\n",
    "\n",
    "    ctuples = ctuples[['poi_id_center', 'poi_id_context']]\n",
    "    ctuples = ctuples.drop_duplicates()\n",
    "    map_file_name = 'C:/Users/tield/Documents/Place2vec Experiments/Austin/w05/austin-sl-tuple-n-itdl-'+str(n)+'bin-wgt'+str(wgt)+'-map-p.csv'\n",
    "    ctuples.to_csv(map_file_name, index=False)"
   ]
  },
  {
   "cell_type": "code",
   "execution_count": 2,
   "metadata": {},
   "outputs": [
    {
     "name": "stdout",
     "output_type": "stream",
     "text": [
      "Compressing file...\n"
     ]
    }
   ],
   "source": [
    "#Reduzindo as informações dos arquivos\n",
    "n = 0\n",
    "wgt = 0.5\n",
    "osm_table = 'bins_polygons_information'\n",
    "\n",
    "for n in range(24, 25):\n",
    "    #ctuples = pd.read_csv('C:/Users/tield/Documents/Place2vec Experiments/Austin/w05/Osm Single Layers/austin-sl-tuple-n-itdl-' + str(n) + 'bin-wgt' + str(wgt) + '-' + osm_table +'-p.csv')\n",
    "    ctuples = pd.read_csv('G:/Meu Drive/Doutorado - Salatiel/Austin/w05/All Layers/austin-sl-tuple-n-itdl-' + str(n) + 'bin-wgt' + str(wgt) + '-p.csv')\n",
    "    print('Compressing file...')\n",
    "    ctuples = ctuples[['center_poi', 'context_poi', 'distance-m']]\n",
    "    #tuples_file_name = 'C:/Users/tield/Documents/Place2vec Experiments/Austin/w05/Osm Single Layers/austin-sl-tuple-n-itdl-'+str(n)+'bin-wgt'+str(wgt)+ '-' +osm_table + '-p.parquet'\n",
    "    tuples_file_name = 'C:/Users/tield/Documents/Place2vec Experiments/Austin/w05/ITDL Partial bins/austin-sl-tuple-n-itdl-'+str(n)+'bin-wgt'+str(wgt)+ '-p.parquet'\n",
    "    ctuples.to_parquet(tuples_file_name, compression='brotli',  index = False)"
   ]
  },
  {
   "cell_type": "code",
   "execution_count": 4,
   "metadata": {},
   "outputs": [
    {
     "name": "stdout",
     "output_type": "stream",
     "text": [
      "Compressing file: austin-sl-tuple-n-itdl-0bin-wgt0.5-l1-p.csv\n",
      "Compressing file: austin-sl-tuple-n-itdl-0bin-wgt0.5-l2-p.csv\n",
      "Compressing file: austin-sl-tuple-n-itdl-0bin-wgt0.5-l3-p.csv\n",
      "Compressing file: austin-sl-tuple-n-itdl-1bin-wgt0.5-l1-p.csv\n",
      "Compressing file: austin-sl-tuple-n-itdl-1bin-wgt0.5-l2-p.csv\n",
      "Compressing file: austin-sl-tuple-n-itdl-1bin-wgt0.5-l3-p.csv\n",
      "Compressing file: austin-sl-tuple-n-itdl-2bin-wgt0.5-l1-p.csv\n",
      "Compressing file: austin-sl-tuple-n-itdl-2bin-wgt0.5-l2-p.csv\n",
      "Compressing file: austin-sl-tuple-n-itdl-2bin-wgt0.5-l3-p.csv\n",
      "Compressing file: austin-sl-tuple-n-itdl-3bin-wgt0.5-l1-p.csv\n",
      "Compressing file: austin-sl-tuple-n-itdl-3bin-wgt0.5-l2-p.csv\n",
      "Compressing file: austin-sl-tuple-n-itdl-3bin-wgt0.5-l3-p.csv\n",
      "Compressing file: austin-sl-tuple-n-itdl-4bin-wgt0.5-l1-p.csv\n",
      "Compressing file: austin-sl-tuple-n-itdl-4bin-wgt0.5-l2-p.csv\n",
      "Compressing file: austin-sl-tuple-n-itdl-4bin-wgt0.5-l3-p.csv\n",
      "Compressing file: austin-sl-tuple-n-itdl-5bin-wgt0.5-l1-p.csv\n",
      "Compressing file: austin-sl-tuple-n-itdl-5bin-wgt0.5-l2-p.csv\n",
      "Compressing file: austin-sl-tuple-n-itdl-5bin-wgt0.5-l3-p.csv\n",
      "Compressing file: austin-sl-tuple-n-itdl-6bin-wgt0.5-l1-p.csv\n",
      "Compressing file: austin-sl-tuple-n-itdl-6bin-wgt0.5-l2-p.csv\n",
      "Compressing file: austin-sl-tuple-n-itdl-6bin-wgt0.5-l3-p.csv\n",
      "Compressing file: austin-sl-tuple-n-itdl-7bin-wgt0.5-l1-p.csv\n",
      "Compressing file: austin-sl-tuple-n-itdl-7bin-wgt0.5-l2-p.csv\n",
      "Compressing file: austin-sl-tuple-n-itdl-7bin-wgt0.5-l3-p.csv\n",
      "Compressing file: austin-sl-tuple-n-itdl-8bin-wgt0.5-l1-p.csv\n",
      "Compressing file: austin-sl-tuple-n-itdl-8bin-wgt0.5-l2-p.csv\n",
      "Compressing file: austin-sl-tuple-n-itdl-8bin-wgt0.5-l3-p.csv\n",
      "Compressing file: austin-sl-tuple-n-itdl-9bin-wgt0.5-l1-p.csv\n",
      "Compressing file: austin-sl-tuple-n-itdl-9bin-wgt0.5-l2-p.csv\n",
      "Compressing file: austin-sl-tuple-n-itdl-9bin-wgt0.5-l3-p.csv\n",
      "Compressing file: austin-sl-tuple-n-itdl-10bin-wgt0.5-l1-p.csv\n",
      "Compressing file: austin-sl-tuple-n-itdl-10bin-wgt0.5-l2-p.csv\n",
      "Compressing file: austin-sl-tuple-n-itdl-10bin-wgt0.5-l3-p.csv\n",
      "Compressing file: austin-sl-tuple-n-itdl-11bin-wgt0.5-l1-p.csv\n",
      "Compressing file: austin-sl-tuple-n-itdl-11bin-wgt0.5-l2-p.csv\n",
      "Compressing file: austin-sl-tuple-n-itdl-11bin-wgt0.5-l3-p.csv\n",
      "Compressing file: austin-sl-tuple-n-itdl-12bin-wgt0.5-l1-p.csv\n",
      "Compressing file: austin-sl-tuple-n-itdl-12bin-wgt0.5-l2-p.csv\n",
      "Compressing file: austin-sl-tuple-n-itdl-12bin-wgt0.5-l3-p.csv\n",
      "Compressing file: austin-sl-tuple-n-itdl-13bin-wgt0.5-l1-p.csv\n",
      "Compressing file: austin-sl-tuple-n-itdl-13bin-wgt0.5-l2-p.csv\n",
      "Compressing file: austin-sl-tuple-n-itdl-13bin-wgt0.5-l3-p.csv\n",
      "Compressing file: austin-sl-tuple-n-itdl-14bin-wgt0.5-l1-p.csv\n",
      "Compressing file: austin-sl-tuple-n-itdl-14bin-wgt0.5-l2-p.csv\n",
      "Compressing file: austin-sl-tuple-n-itdl-14bin-wgt0.5-l3-p.csv\n",
      "Compressing file: austin-sl-tuple-n-itdl-15bin-wgt0.5-l1-p.csv\n",
      "Compressing file: austin-sl-tuple-n-itdl-15bin-wgt0.5-l2-p.csv\n",
      "Compressing file: austin-sl-tuple-n-itdl-15bin-wgt0.5-l3-p.csv\n",
      "Compressing file: austin-sl-tuple-n-itdl-16bin-wgt0.5-l1-p.csv\n",
      "Compressing file: austin-sl-tuple-n-itdl-16bin-wgt0.5-l2-p.csv\n",
      "Compressing file: austin-sl-tuple-n-itdl-16bin-wgt0.5-l3-p.csv\n",
      "Compressing file: austin-sl-tuple-n-itdl-17bin-wgt0.5-l1-p.csv\n",
      "Compressing file: austin-sl-tuple-n-itdl-17bin-wgt0.5-l2-p.csv\n",
      "Compressing file: austin-sl-tuple-n-itdl-17bin-wgt0.5-l3-p.csv\n",
      "Compressing file: austin-sl-tuple-n-itdl-18bin-wgt0.5-l1-p.csv\n",
      "Compressing file: austin-sl-tuple-n-itdl-18bin-wgt0.5-l2-p.csv\n",
      "Compressing file: austin-sl-tuple-n-itdl-18bin-wgt0.5-l3-p.csv\n",
      "Compressing file: austin-sl-tuple-n-itdl-19bin-wgt0.5-l1-p.csv\n",
      "Compressing file: austin-sl-tuple-n-itdl-19bin-wgt0.5-l2-p.csv\n",
      "Compressing file: austin-sl-tuple-n-itdl-19bin-wgt0.5-l3-p.csv\n",
      "Compressing file: austin-sl-tuple-n-itdl-20bin-wgt0.5-l1-p.csv\n",
      "Compressing file: austin-sl-tuple-n-itdl-20bin-wgt0.5-l2-p.csv\n",
      "Compressing file: austin-sl-tuple-n-itdl-20bin-wgt0.5-l3-p.csv\n",
      "Compressing file: austin-sl-tuple-n-itdl-21bin-wgt0.5-l1-p.csv\n",
      "Compressing file: austin-sl-tuple-n-itdl-21bin-wgt0.5-l2-p.csv\n",
      "Compressing file: austin-sl-tuple-n-itdl-21bin-wgt0.5-l3-p.csv\n",
      "Compressing file: austin-sl-tuple-n-itdl-22bin-wgt0.5-l1-p.csv\n",
      "Compressing file: austin-sl-tuple-n-itdl-22bin-wgt0.5-l2-p.csv\n",
      "Compressing file: austin-sl-tuple-n-itdl-22bin-wgt0.5-l3-p.csv\n",
      "Compressing file: austin-sl-tuple-n-itdl-23bin-wgt0.5-l1-p.csv\n",
      "Compressing file: austin-sl-tuple-n-itdl-23bin-wgt0.5-l2-p.csv\n",
      "Compressing file: austin-sl-tuple-n-itdl-23bin-wgt0.5-l3-p.csv\n",
      "Compressing file: austin-sl-tuple-n-itdl-24bin-wgt0.5-l1-p.csv\n",
      "Compressing file: austin-sl-tuple-n-itdl-24bin-wgt0.5-l2-p.csv\n",
      "Compressing file: austin-sl-tuple-n-itdl-24bin-wgt0.5-l3-p.csv\n",
      "Compressing file: austin-sl-tuple-n-itdl-25bin-wgt0.5-l1-p.csv\n",
      "Compressing file: austin-sl-tuple-n-itdl-25bin-wgt0.5-l2-p.csv\n",
      "Compressing file: austin-sl-tuple-n-itdl-25bin-wgt0.5-l3-p.csv\n",
      "Compressing file: austin-sl-tuple-n-itdl-26bin-wgt0.5-l1-p.csv\n",
      "Compressing file: austin-sl-tuple-n-itdl-26bin-wgt0.5-l2-p.csv\n",
      "Compressing file: austin-sl-tuple-n-itdl-26bin-wgt0.5-l3-p.csv\n"
     ]
    }
   ],
   "source": [
    "#Reduzindo as informações dos arquivos por camadas\n",
    "n = 0\n",
    "wgt = 0.5\n",
    "\n",
    "layers = [1, 2, 3]\n",
    "for n in range(0, 27):\n",
    "\n",
    "    for l in layers:\n",
    "        name = 'austin-sl-tuple-n-itdl-' + str(n) + 'bin-wgt' + str(wgt) + '-l' +str(l)+ '-p.csv'\n",
    "        print('Compressing file:', name)\n",
    "        ctuples = pd.read_csv('C:/Users/tield/Documents/Place2vec Experiments/Austin/w05/Single Layers/austin-sl-tuple-n-itdl-' + str(n) + 'bin-wgt' + str(wgt) + '-l' +str(l)+ '-p.csv')\n",
    "        tuples_file_name = 'C:/Users/tield/Documents/Place2vec Experiments/Austin/w05/Single Layers/austin-sl-tuple-n-itdl-'+str(n)+'bin-wgt'+str(wgt)+'-l'+str(l)+'-p.parquet'\n",
    "        ctuples.to_parquet(tuples_file_name, compression='brotli',  index = False)"
   ]
  },
  {
   "cell_type": "code",
   "execution_count": 4,
   "metadata": {},
   "outputs": [
    {
     "name": "stdout",
     "output_type": "stream",
     "text": [
      "(20856991, 3)\n"
     ]
    },
    {
     "data": {
      "text/html": [
       "<div>\n",
       "<style scoped>\n",
       "    .dataframe tbody tr th:only-of-type {\n",
       "        vertical-align: middle;\n",
       "    }\n",
       "\n",
       "    .dataframe tbody tr th {\n",
       "        vertical-align: top;\n",
       "    }\n",
       "\n",
       "    .dataframe thead th {\n",
       "        text-align: right;\n",
       "    }\n",
       "</style>\n",
       "<table border=\"1\" class=\"dataframe\">\n",
       "  <thead>\n",
       "    <tr style=\"text-align: right;\">\n",
       "      <th></th>\n",
       "      <th>center_poi</th>\n",
       "      <th>context_poi</th>\n",
       "      <th>distance-m</th>\n",
       "    </tr>\n",
       "  </thead>\n",
       "  <tbody>\n",
       "    <tr>\n",
       "      <th>0</th>\n",
       "      <td>Shopping</td>\n",
       "      <td>Doctors</td>\n",
       "      <td>12.9</td>\n",
       "    </tr>\n",
       "    <tr>\n",
       "      <th>1</th>\n",
       "      <td>Shopping</td>\n",
       "      <td>Doctors</td>\n",
       "      <td>12.9</td>\n",
       "    </tr>\n",
       "    <tr>\n",
       "      <th>2</th>\n",
       "      <td>Shopping</td>\n",
       "      <td>Professional Services</td>\n",
       "      <td>12.9</td>\n",
       "    </tr>\n",
       "    <tr>\n",
       "      <th>3</th>\n",
       "      <td>Shopping</td>\n",
       "      <td>Professional Services</td>\n",
       "      <td>12.9</td>\n",
       "    </tr>\n",
       "    <tr>\n",
       "      <th>4</th>\n",
       "      <td>Shopping</td>\n",
       "      <td>Health &amp; Medical</td>\n",
       "      <td>12.9</td>\n",
       "    </tr>\n",
       "  </tbody>\n",
       "</table>\n",
       "</div>"
      ],
      "text/plain": [
       "  center_poi            context_poi  distance-m\n",
       "0   Shopping                Doctors        12.9\n",
       "1   Shopping                Doctors        12.9\n",
       "2   Shopping  Professional Services        12.9\n",
       "3   Shopping  Professional Services        12.9\n",
       "4   Shopping       Health & Medical        12.9"
      ]
     },
     "execution_count": 4,
     "metadata": {},
     "output_type": "execute_result"
    }
   ],
   "source": [
    "df = pd.read_parquet('C:/Users/tield/Documents/Place2vec Experiments/Austin/w05/austin-sl-tuple-n-itdl-0bin-wgt0.5-p.parquet')\n",
    "print(df.shape)\n",
    "df.head()"
   ]
  }
 ],
 "metadata": {
  "interpreter": {
   "hash": "fe44fef87f92f48a3a32707d0df204585f471652bc0ce87358a3ce712bc24db0"
  },
  "kernelspec": {
   "display_name": "Python 3.9.7 64-bit (windows store)",
   "name": "python3"
  },
  "language_info": {
   "codemirror_mode": {
    "name": "ipython",
    "version": 3
   },
   "file_extension": ".py",
   "mimetype": "text/x-python",
   "name": "python",
   "nbconvert_exporter": "python",
   "pygments_lexer": "ipython3",
   "version": "3.8.8"
  },
  "orig_nbformat": 4
 },
 "nbformat": 4,
 "nbformat_minor": 2
}
