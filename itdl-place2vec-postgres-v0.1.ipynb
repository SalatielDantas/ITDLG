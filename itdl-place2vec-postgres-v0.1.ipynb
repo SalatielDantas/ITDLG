{
 "cells": [
  {
   "cell_type": "markdown",
   "metadata": {},
   "source": [
    "# Dependências"
   ]
  },
  {
   "cell_type": "code",
   "execution_count": 2,
   "metadata": {},
   "outputs": [
    {
     "name": "stdout",
     "output_type": "stream",
     "text": [
      "Requirement already satisfied: psycopg2-binary in ./anaconda3/lib/python3.8/site-packages (2.9.1)\n",
      "\u001b[33mWARNING: Keyring is skipped due to an exception: Failed to unlock the collection!\u001b[0m\n"
     ]
    }
   ],
   "source": [
    "#!pip uninstall psycopg2\n",
    "#!pip list\n",
    "#!pip install wheel\n",
    "#!pip install setuptools\n",
    "#!pip install psycopg2\n",
    "#!pip install psycopg2-binary==2.8.3\n",
    "#!pip3 install psycopg2\n",
    "!pip install psycopg2-binary"
   ]
  },
  {
   "cell_type": "code",
   "execution_count": 3,
   "metadata": {},
   "outputs": [
    {
     "name": "stdout",
     "output_type": "stream",
     "text": [
      "Requirement already satisfied: pyarrow in ./anaconda3/lib/python3.8/site-packages (5.0.0)\r\n",
      "Requirement already satisfied: numpy>=1.16.6 in ./anaconda3/lib/python3.8/site-packages (from pyarrow) (1.20.1)\r\n"
     ]
    }
   ],
   "source": [
    "!pip install pyarrow"
   ]
  },
  {
   "cell_type": "markdown",
   "metadata": {},
   "source": [
    "# Bibliotecas"
   ]
  },
  {
   "cell_type": "code",
   "execution_count": 1,
   "metadata": {
    "execution": {
     "iopub.execute_input": "2021-08-15T13:11:26.83219Z",
     "iopub.status.busy": "2021-08-15T13:11:26.831859Z",
     "iopub.status.idle": "2021-08-15T13:11:27.944056Z",
     "shell.execute_reply": "2021-08-15T13:11:27.943319Z",
     "shell.execute_reply.started": "2021-08-15T13:11:26.832161Z"
    }
   },
   "outputs": [],
   "source": [
    "import pandas as pd\n",
    "import numpy as np\n",
    "import psycopg2 as postgres\n",
    "import math"
   ]
  },
  {
   "cell_type": "markdown",
   "metadata": {},
   "source": [
    "# Funções"
   ]
  },
  {
   "cell_type": "code",
   "execution_count": 5,
   "metadata": {},
   "outputs": [],
   "source": [
    "def connect():\n",
    "    conn = None\n",
    "    try:\n",
    "        conn = postgres.connect(\n",
    "            host=\"localhost\",\n",
    "            database=\"austin_test\",\n",
    "            user=\"postgres\",\n",
    "            password=\"root\")\n",
    "    except postgres.Error as e:\n",
    "        print(e)\n",
    "    return conn"
   ]
  },
  {
   "cell_type": "code",
   "execution_count": 6,
   "metadata": {},
   "outputs": [],
   "source": [
    "def closeConnection(conn):\n",
    "    sucess = False\n",
    "    try:\n",
    "        conn.close()\n",
    "        sucess = True\n",
    "    except postgres.Error as e:\n",
    "        print(e)\n",
    "    \n",
    "    return sucess"
   ]
  },
  {
   "cell_type": "code",
   "execution_count": 7,
   "metadata": {},
   "outputs": [],
   "source": [
    "def executeQuery(conn, sql):\n",
    "    record = None\n",
    "    try:\n",
    "        #print(sql)\n",
    "        cur = conn.cursor()\n",
    "        cur.execute(sql)\n",
    "        record = cur.fetchall()\n",
    "        cur.close()\n",
    "    except postgres.Error as e:\n",
    "        print(e)\n",
    "        cur.execute(\"ROLLBACK\")\n",
    "        cur.close()\n",
    "    return record"
   ]
  },
  {
   "cell_type": "code",
   "execution_count": 8,
   "metadata": {},
   "outputs": [],
   "source": [
    "def executeInsert(conn, sql):\n",
    "    sucess = False\n",
    "            \n",
    "    try:\n",
    "        #print(sql)\n",
    "        cur = conn.cursor()\n",
    "        cur.execute(sql)\n",
    "        conn.commit()\n",
    "        cur.close()\n",
    "        sucess = True\n",
    "    except postgres.Error as e:\n",
    "        print(e)\n",
    "        cur.execute(\"ROLLBACK\")\n",
    "        cur.close()\n",
    "\n",
    "    return sucess"
   ]
  },
  {
   "cell_type": "code",
   "execution_count": 9,
   "metadata": {
    "execution": {
     "iopub.execute_input": "2021-08-15T13:11:28.004993Z",
     "iopub.status.busy": "2021-08-15T13:11:28.004358Z",
     "iopub.status.idle": "2021-08-15T13:11:28.012586Z",
     "shell.execute_reply": "2021-08-15T13:11:28.011911Z",
     "shell.execute_reply.started": "2021-08-15T13:11:28.004948Z"
    }
   },
   "outputs": [],
   "source": [
    "#Recebe um id e retorna as categorias e checkin do lugar\n",
    "def getPOIInformation(conn, business_id,):\n",
    "    \n",
    "    sql = \"\"\"\n",
    "        SELECT checkin_count, name FROM pois_information WHERE id  = \\'\"\"\"+str(business_id)+ \"\"\"\\'\n",
    "    ;\"\"\"\n",
    "\n",
    "    result = executeQuery(conn, sql)\n",
    "\n",
    "    return result"
   ]
  },
  {
   "cell_type": "code",
   "execution_count": 10,
   "metadata": {},
   "outputs": [],
   "source": [
    "#Encontra todos os pontos do bin centrado em um POI trazendo suas informações (categorias e checkin)\n",
    "def getBinInformation(conn, business_id, bin_number):\n",
    "\n",
    "    result = None\n",
    "\n",
    "    sql = \"\"\"\n",
    "        SELECT fk_poi_id_context, name, checkin_count, distance_m \n",
    "        FROM bins_information \n",
    "        WHERE fk_poi_id_center = \\'\"\"\"+str(business_id)+\"\"\"\\' AND fk_bin_number = \"\"\"+str(bin_number)+\"\"\";\"\"\"\n",
    "\n",
    "    result = executeQuery(conn, sql)\n",
    "\n",
    "    return result\n"
   ]
  },
  {
   "cell_type": "code",
   "execution_count": 11,
   "metadata": {},
   "outputs": [],
   "source": [
    "def getBinStats(conn, business_id, binRange):\n",
    "\n",
    "    sql = \"\"\"\n",
    "    SELECT count(business_id) as quantity, sum(checkin_count) as total_checkin FROM poi WHERE business_id IN (\n",
    "        SELECT fk_poi_business_id_01 FROM has_distance WHERE distance_m >= \"\"\"+str(binRange[0])+\"\"\" AND distance_m < \"\"\"+str(binRange[1])+\"\"\"\n",
    "                                            AND fk_poi_business_id_02 = \\'\"\"\"+str(business_id)+\"\"\"\\'\n",
    "    )\n",
    "    \"\"\"\n",
    "\n",
    "    result = executeQuery(conn, sql)\n",
    "\n",
    "    return result"
   ]
  },
  {
   "cell_type": "code",
   "execution_count": 12,
   "metadata": {},
   "outputs": [],
   "source": [
    "def getCategoryInformation(data, category):\n",
    "   \n",
    "    occurences = 0\n",
    "    checkin = 0\n",
    "\n",
    "     #Formato de data\n",
    "    #[business_id, checkin, category]\n",
    "    for item in data:\n",
    "        if(item[2] == category):\n",
    "            occurences = occurences + 1\n",
    "            checkin = checkin + item[1]\n",
    "    \n",
    "    return [checkin, occurences]\n"
   ]
  },
  {
   "cell_type": "code",
   "execution_count": 13,
   "metadata": {
    "execution": {
     "iopub.execute_input": "2021-08-15T13:11:21.417954Z",
     "iopub.status.busy": "2021-08-15T13:11:21.417286Z",
     "iopub.status.idle": "2021-08-15T13:11:21.439736Z",
     "shell.execute_reply": "2021-08-15T13:11:21.438718Z",
     "shell.execute_reply.started": "2021-08-15T13:11:21.41786Z"
    }
   },
   "outputs": [],
   "source": [
    "def calculateBin(df, bin_number, w=0.5):\n",
    "    \n",
    "    print(\"executing bin:\", bin_number, \"\\tweight:\", w)\n",
    "\n",
    "    #Criando canal de comunicação com a base de dados\n",
    "    connection = connect()  \n",
    "\n",
    "    if (connection != None):\n",
    "\n",
    "        #Dicionário do ITDL\n",
    "        scITDL = {} \n",
    "        i = 0  \n",
    "\n",
    "        # largura do bin\n",
    "        \n",
    "\n",
    "        #centros\n",
    "        for id_01, poi in df.iterrows():\n",
    "            #print('calculating point:', id_01, 'id:', poi['business_id'])\n",
    "\n",
    "            \n",
    "            #Obtendo informações de categorias e checkin do poi central\n",
    "            #[business_id, checkin, category]\n",
    "            poi_information = getPOIInformation(connection, poi['business_id'])\n",
    "\n",
    "\n",
    "            #[business_id, checkin, category, distance_m]\n",
    "            bin_information = getBinInformation(connection, poi['business_id'], bin_number)\n",
    "            bin_information = pd.DataFrame(bin_information, columns = ['business_id', 'category', 'checkin_count', 'distance_m'])\n",
    "\n",
    "            #Calculando os dois parâmetros abaixo\n",
    "            #sc - total de checkins no bin\n",
    "            #sp - total de pois no bin\n",
    "            sp = len(bin_information['business_id'].unique())\n",
    "            sc = bin_information.drop_duplicates(subset = 'business_id')['checkin_count'].sum()\n",
    "\n",
    "\n",
    "            #As adições são feitas baseadas nos rótulos\n",
    "\n",
    "            #Para evitar divisão por zero\n",
    "            if(sc != 0 and sp != 0):\n",
    "                for center_poi in poi_information: # Para cada tki\n",
    "                    for id_02, row in bin_information.iterrows(): #Para cara tkj\n",
    "\n",
    "                        \n",
    "                        #cc = all checkin o tkj\n",
    "                        #cp = all occurences of tkj\n",
    "                        \n",
    "                        cc = bin_information[bin_information['category'] == row['category']]['checkin_count'].sum()\n",
    "                        cp = bin_information[bin_information['category'] == row['category']]['category'].count()\n",
    "\n",
    "                        #print(sc, sp, cc, cp)\n",
    "\n",
    "                        a = (1 - (cc/sc)) #Pode gerar 0\n",
    "                        u = (cp/sp)       #Pode gerar 0\n",
    "\n",
    "                        if((a > 0) and (u > 0)):\n",
    "\n",
    "                            A = -np.log2(a)\n",
    "                            U = -np.log2(u)\n",
    "\n",
    "                            aug = int(math.ceil((w*A) + ((1 - w)*U)))\n",
    "\n",
    "                            #Aumentando-o pelo fator b\n",
    "                            for b in range(aug):\n",
    "\n",
    "                                scITDL[i] = {   'poi_id_center': poi['business_id'],\n",
    "                                                'center_poi': center_poi[1],\n",
    "                                                'poi_id_context': row['business_id'],\n",
    "                                                'context_poi': row['category'], \n",
    "                                                'distance-m': row['distance_m']}\n",
    "                                i = i + 1\n",
    "\n",
    "            #break\n",
    "\n",
    "\n",
    "        scITDL = pd.DataFrame.from_dict(scITDL, 'index')\n",
    "        #name = './Austin/w05/Partial bins/austin-sl-tuple-n-itdl-' + str(bin_number) + 'bin-wgt'+str(w)+'-p.parquet'\n",
    "        name = './Austin/w05/Partial bins/austin-sl-tuple-n-itdl-' + str(bin_number) + 'bin-wgt'+str(w)+'-p.csv'\n",
    "        #scITDL.to_parquet(name, compression='brotli',  index = False)\n",
    "        scITDL.to_csv(name, index=False)\n",
    "        closeConnection(connection)\n",
    "        \n",
    "    return None"
   ]
  },
  {
   "cell_type": "code",
   "execution_count": 1,
   "metadata": {},
   "outputs": [],
   "source": [
    "import csv\n",
    "def calculateBin_Disco(df, bin_number, w=0.5):\n",
    "    \n",
    "    print(\"executing bin:\", bin_number, \"\\tweight:\", w)\n",
    "\n",
    "    #Arquivo para salvar diretamente no disco\n",
    "    name = './Austin/w05/Partial bins/austin-sl-tuple-n-itdl-' + str(bin_number) + 'bin-wgt'+str(w)+'-p.csv'\n",
    "    csv_file = open(name, \"w\", newline='')\n",
    "    writer = csv.writer(csv_file, delimiter=',')\n",
    "    writer.writerow([\"poi_id_center\",\"center_poi\",\"poi_id_context\",\"context_poi\",\"distance-m\"])\n",
    "\n",
    "    #Criando canal de comunicação com a base de dados\n",
    "    connection = connect()  \n",
    "\n",
    "    if (connection != None):\n",
    "\n",
    "\n",
    "\n",
    "        #centros\n",
    "        for id_01, poi in df.iterrows():\n",
    "            #print('calculating point:', id_01, 'id:', poi['business_id'])\n",
    "\n",
    "            \n",
    "            #Obtendo informações de categorias e checkin do poi central\n",
    "            #[business_id, checkin, category]\n",
    "            poi_information = getPOIInformation(connection, poi['business_id'])\n",
    "\n",
    "\n",
    "            #[business_id, checkin, category, distance_m]\n",
    "            bin_information = getBinInformation(connection, poi['business_id'], bin_number)\n",
    "            bin_information = pd.DataFrame(bin_information, columns = ['business_id', 'category', 'checkin_count', 'distance_m'])\n",
    "\n",
    "            #Calculando os dois parâmetros abaixo\n",
    "            #sc - total de checkins no bin\n",
    "            #sp - total de pois no bin\n",
    "            sp = len(bin_information['business_id'].unique())\n",
    "            sc = bin_information.drop_duplicates(subset = 'business_id')['checkin_count'].sum()\n",
    "\n",
    "\n",
    "            #As adições são feitas baseadas nos rótulos\n",
    "\n",
    "            #Para evitar divisão por zero\n",
    "            if(sc != 0 and sp != 0):\n",
    "                for center_poi in poi_information: # Para cada tki\n",
    "                    for id_02, row in bin_information.iterrows(): #Para cara tkj\n",
    "\n",
    "                        \n",
    "                        #cc = all checkin o tkj\n",
    "                        #cp = all occurences of tkj\n",
    "                        \n",
    "                        cc = bin_information[bin_information['category'] == row['category']]['checkin_count'].sum()\n",
    "                        cp = bin_information[bin_information['category'] == row['category']]['category'].count()\n",
    "\n",
    "                        #print(sc, sp, cc, cp)\n",
    "\n",
    "                        a = (1 - (cc/sc)) #Pode gerar 0\n",
    "                        u = (cp/sp)       #Pode gerar 0\n",
    "\n",
    "                        if((a > 0) and (u > 0)):\n",
    "\n",
    "                            A = -np.log2(a)\n",
    "                            U = -np.log2(u)\n",
    "\n",
    "                            aug = int(math.ceil((w*A) + ((1 - w)*U)))\n",
    "\n",
    "                            #Aumentando-o pelo fator b\n",
    "                            for b in range(aug):\n",
    "\n",
    "                                \n",
    "                                line = [str(poi['business_id']), str(center_poi[1]), str(row['business_id']), str(row['category']), str(row['distance_m'])]\n",
    "                                writer.writerow(line)\n",
    "\n",
    "                            \n",
    "            #break\n",
    "        \n",
    "        csv_file.close()\n",
    "        closeConnection(connection)\n",
    "        \n",
    "    return None"
   ]
  },
  {
   "cell_type": "markdown",
   "metadata": {},
   "source": [
    "# Geração do ITDL"
   ]
  },
  {
   "cell_type": "code",
   "execution_count": 14,
   "metadata": {
    "execution": {
     "iopub.execute_input": "2021-08-15T13:11:41.187138Z",
     "iopub.status.busy": "2021-08-15T13:11:41.186606Z",
     "iopub.status.idle": "2021-08-15T13:11:41.264865Z",
     "shell.execute_reply": "2021-08-15T13:11:41.264018Z",
     "shell.execute_reply.started": "2021-08-15T13:11:41.187099Z"
    }
   },
   "outputs": [
    {
     "name": "stdout",
     "output_type": "stream",
     "text": [
      "(22399, 7)\n",
      "(22399, 7)\n"
     ]
    },
    {
     "data": {
      "text/html": [
       "<div>\n",
       "<style scoped>\n",
       "    .dataframe tbody tr th:only-of-type {\n",
       "        vertical-align: middle;\n",
       "    }\n",
       "\n",
       "    .dataframe tbody tr th {\n",
       "        vertical-align: top;\n",
       "    }\n",
       "\n",
       "    .dataframe thead th {\n",
       "        text-align: right;\n",
       "    }\n",
       "</style>\n",
       "<table border=\"1\" class=\"dataframe\">\n",
       "  <thead>\n",
       "    <tr style=\"text-align: right;\">\n",
       "      <th></th>\n",
       "      <th>business_id</th>\n",
       "      <th>city</th>\n",
       "      <th>state</th>\n",
       "      <th>latitude</th>\n",
       "      <th>longitude</th>\n",
       "      <th>categories</th>\n",
       "      <th>checkin_count</th>\n",
       "    </tr>\n",
       "  </thead>\n",
       "  <tbody>\n",
       "    <tr>\n",
       "      <th>0</th>\n",
       "      <td>N3_Gs3DnX4k9SgpwJxdEfw</td>\n",
       "      <td>Austin</td>\n",
       "      <td>TX</td>\n",
       "      <td>30.346169</td>\n",
       "      <td>-97.711458</td>\n",
       "      <td>Shopping, Jewelry Repair, Appraisal Services, ...</td>\n",
       "      <td>14</td>\n",
       "    </tr>\n",
       "    <tr>\n",
       "      <th>1</th>\n",
       "      <td>tXvdYGvlEceDljN8gt2_3Q</td>\n",
       "      <td>Austin</td>\n",
       "      <td>TX</td>\n",
       "      <td>30.172706</td>\n",
       "      <td>-97.799920</td>\n",
       "      <td>Barbers, Beauty &amp; Spas</td>\n",
       "      <td>1</td>\n",
       "    </tr>\n",
       "    <tr>\n",
       "      <th>2</th>\n",
       "      <td>nTIhpR7MhsALPwg_Hh14EA</td>\n",
       "      <td>Austin</td>\n",
       "      <td>TX</td>\n",
       "      <td>30.326377</td>\n",
       "      <td>-97.704543</td>\n",
       "      <td>Hotels, Hotels &amp; Travel, Event Planning &amp; Serv...</td>\n",
       "      <td>475</td>\n",
       "    </tr>\n",
       "    <tr>\n",
       "      <th>3</th>\n",
       "      <td>8XyEpVdAO0o6iVkVxkWosQ</td>\n",
       "      <td>Austin</td>\n",
       "      <td>TX</td>\n",
       "      <td>30.246465</td>\n",
       "      <td>-97.778738</td>\n",
       "      <td>Home Services, Real Estate, Property Management</td>\n",
       "      <td>0</td>\n",
       "    </tr>\n",
       "    <tr>\n",
       "      <th>4</th>\n",
       "      <td>NVfOn7TdnHbaGH97CVB_Qg</td>\n",
       "      <td>Austin</td>\n",
       "      <td>TX</td>\n",
       "      <td>30.244902</td>\n",
       "      <td>-97.857409</td>\n",
       "      <td>Chiropractors, Health &amp; Medical</td>\n",
       "      <td>33</td>\n",
       "    </tr>\n",
       "  </tbody>\n",
       "</table>\n",
       "</div>"
      ],
      "text/plain": [
       "              business_id    city state   latitude  longitude  \\\n",
       "0  N3_Gs3DnX4k9SgpwJxdEfw  Austin    TX  30.346169 -97.711458   \n",
       "1  tXvdYGvlEceDljN8gt2_3Q  Austin    TX  30.172706 -97.799920   \n",
       "2  nTIhpR7MhsALPwg_Hh14EA  Austin    TX  30.326377 -97.704543   \n",
       "3  8XyEpVdAO0o6iVkVxkWosQ  Austin    TX  30.246465 -97.778738   \n",
       "4  NVfOn7TdnHbaGH97CVB_Qg  Austin    TX  30.244902 -97.857409   \n",
       "\n",
       "                                          categories  checkin_count  \n",
       "0  Shopping, Jewelry Repair, Appraisal Services, ...             14  \n",
       "1                             Barbers, Beauty & Spas              1  \n",
       "2  Hotels, Hotels & Travel, Event Planning & Serv...            475  \n",
       "3    Home Services, Real Estate, Property Management              0  \n",
       "4                    Chiropractors, Health & Medical             33  "
      ]
     },
     "execution_count": 14,
     "metadata": {},
     "output_type": "execute_result"
    }
   ],
   "source": [
    "#Quantidade de tuplas de vizinhos nos dados do yelp (center, context) considerando d = 100m\n",
    "#df = pd.read_csv('/kaggle/input/yelpcambridge/yelpcambridge-ml.csv')\n",
    "pois_file_name = './Austin/austin-ml-updated.csv'\n",
    "df = pd.read_csv(pois_file_name)\n",
    "print(df.shape)\n",
    "df = df.dropna()\n",
    "print(df.shape)\n",
    "df.head()"
   ]
  },
  {
   "cell_type": "markdown",
   "metadata": {},
   "source": [
    "iteractive ITDL"
   ]
  },
  {
   "cell_type": "code",
   "execution_count": 16,
   "metadata": {
    "scrolled": true
   },
   "outputs": [
    {
     "name": "stdout",
     "output_type": "stream",
     "text": [
      "executing bin: 0 \tweight: 0.5\n"
     ]
    }
   ],
   "source": [
    "for n in range(0, 1):\n",
    "    calculateBin_Disco(df, n, 0.5)\n",
    "    #break"
   ]
  },
  {
   "cell_type": "markdown",
   "metadata": {},
   "source": [
    "Parallel ITDL"
   ]
  },
  {
   "cell_type": "code",
   "execution_count": null,
   "metadata": {
    "execution": {
     "iopub.execute_input": "2021-08-10T21:50:03.236761Z",
     "iopub.status.busy": "2021-08-10T21:50:03.236417Z",
     "iopub.status.idle": "2021-08-10T23:51:59.673123Z",
     "shell.execute_reply": "2021-08-10T23:51:59.671871Z",
     "shell.execute_reply.started": "2021-08-10T21:50:03.236732Z"
    }
   },
   "outputs": [
    {
     "name": "stdout",
     "output_type": "stream",
     "text": [
      "Number of processors:  16\n",
      "executing bin:executing bin:  1211  \tweight:\tweight:  0.50.5\n",
      "\n",
      "executing bin: 13 \tweight: 0.5\n",
      "executing bin: 14 \tweight: 0.5\n",
      "executing bin: 15 \tweight: 0.5\n",
      "executing bin: 16 \tweight: 0.5\n",
      "executing bin: 17 \tweight: 0.5\n",
      "executing bin: 18 \tweight: 0.5\n",
      "0.5executing bin: 19 \tweight: \n",
      "executing bin: 20 \tweight: 0.5\n"
     ]
    }
   ],
   "source": [
    "import multiprocessing as mp\n",
    "print(\"Number of processors: \", mp.cpu_count())\n",
    "\n",
    "\n",
    "# Step 1: Init multiprocessing.Pool()\n",
    "pool = mp.Pool(int(mp.cpu_count()))\n",
    "\n",
    "# Step 2: `pool.apply` the `howmany_within_range()`\n",
    "bins = range(21, 27)\n",
    "#bins = [0]\n",
    "#[pool.apply(calculateBin, args=(df, n, 100, 0.3)) for n in bins]\n",
    "pool.starmap(calculateBin_Disco, [(df, bin_number, 0.5) for bin_number in bins])\n",
    "\n",
    "# Step 3: Don't forget to close\n",
    "pool.close()\n",
    "\n",
    "print('Process finished.')"
   ]
  },
  {
   "cell_type": "code",
   "execution_count": 19,
   "metadata": {},
   "outputs": [
    {
     "name": "stdout",
     "output_type": "stream",
     "text": [
      "Number of processors:  16\n"
     ]
    }
   ],
   "source": [
    "import multiprocessing as mp\n",
    "print(\"Number of processors: \", mp.cpu_count())"
   ]
  },
  {
   "cell_type": "code",
   "execution_count": null,
   "metadata": {},
   "outputs": [],
   "source": []
  }
 ],
 "metadata": {
  "interpreter": {
   "hash": "1c960ebc558cb47a91b30b6a69e09ee33d8511507a0164b187e789d12f3a22a9"
  },
  "kernelspec": {
   "display_name": "Python 3",
   "language": "python",
   "name": "python3"
  },
  "language_info": {
   "codemirror_mode": {
    "name": "ipython",
    "version": 3
   },
   "file_extension": ".py",
   "mimetype": "text/x-python",
   "name": "python",
   "nbconvert_exporter": "python",
   "pygments_lexer": "ipython3",
   "version": "3.8.8"
  }
 },
 "nbformat": 4,
 "nbformat_minor": 4
}
