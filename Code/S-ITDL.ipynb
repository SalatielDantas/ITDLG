{
 "cells": [
  {
   "cell_type": "markdown",
   "metadata": {},
   "source": [
    "# Library"
   ]
  },
  {
   "cell_type": "code",
   "execution_count": 2,
   "metadata": {
    "execution": {
     "iopub.execute_input": "2021-08-12T12:18:16.363827Z",
     "iopub.status.busy": "2021-08-12T12:18:16.363383Z",
     "iopub.status.idle": "2021-08-12T12:18:16.368877Z",
     "shell.execute_reply": "2021-08-12T12:18:16.367823Z",
     "shell.execute_reply.started": "2021-08-12T12:18:16.363792Z"
    }
   },
   "outputs": [],
   "source": [
    "import numpy as np\n",
    "import pandas as pd"
   ]
  },
  {
   "cell_type": "markdown",
   "metadata": {},
   "source": [
    "# Functions"
   ]
  },
  {
   "cell_type": "code",
   "execution_count": 9,
   "metadata": {
    "execution": {
     "iopub.execute_input": "2021-08-12T12:18:17.612156Z",
     "iopub.status.busy": "2021-08-12T12:18:17.611660Z",
     "iopub.status.idle": "2021-08-12T12:18:17.627476Z",
     "shell.execute_reply": "2021-08-12T12:18:17.626452Z",
     "shell.execute_reply.started": "2021-08-12T12:18:17.612124Z"
    }
   },
   "outputs": [],
   "source": [
    "def SITDL(tuples, distance, slot):\n",
    "    \n",
    "    groups = tuples.sort_values(['distance-m'], ascending=True, ignore_index=True).groupby(['center_poi'])\n",
    "    centerDistance = distance/slot\n",
    "    sentences = list()\n",
    "    \n",
    "    columns = np.arange(0, int(centerDistance+1))\n",
    "    columns = [str(w) for w in columns]\n",
    "    \n",
    "    for group_name, df_group in groups:\n",
    "\n",
    "        df_group = df_group.dropna()\n",
    "        \n",
    "        for i in np.arange (0, distance, slot):   \n",
    "            if(i == slot):\n",
    "                rows = df_group[(df_group['distance-m'].astype(float) > i) & (df_group['distance-m'].astype(float) <= (i+slot))]\n",
    "            else:\n",
    "                rows = df_group[(df_group['distance-m'].astype(float) >= i) & (df_group['distance-m'].astype(float) <= (i+slot))]\n",
    "        \n",
    "            for id, row in rows.iterrows():\n",
    "                subsentence = ['s'] * int(centerDistance+1)\n",
    "                subsentence[0] = row['center_poi']\n",
    "                subsentence[int((i/slot) + 1)] = row['context_poi']\n",
    "\n",
    "                sentences.append(subsentence)          \n",
    "    return [sentences, columns]"
   ]
  },
  {
   "cell_type": "code",
   "execution_count": 28,
   "metadata": {},
   "outputs": [],
   "source": [
    "def Tuple2Sentence(n, wgt, h):\n",
    "    \n",
    "    print('Converting tuple of bin:', n)\n",
    "    distance = (n+1)*h\n",
    "\n",
    "    layers = [1, 2, 3]\n",
    "\n",
    "    for l in layers:\n",
    "\n",
    "        try:\n",
    "\n",
    "            file_name = 'file-p.parquet'\n",
    "\n",
    "            tuples = pd.read_parquet(file_name)\n",
    "\n",
    "            windows = [9, 11]\n",
    "\n",
    "            for w in windows:\n",
    "\n",
    "               \n",
    "                slot = (distance/((w-1)/2))\n",
    "                \n",
    "                [sentences_window, columns] = SITDL(tuples, distance, slot)\n",
    "\n",
    "                sentences_window_file_name = './Austin/w05/Sentences ITDL Partial Bins Single Layers/austin-sl-sentences-n-itdl-'+str(n)+'bin-wgt'+str(wgt)+'-wnd'+str(w)+'-l'+str(l)+'.parquet'\n",
    "        \n",
    "                sentences_window = pd.DataFrame(sentences_window, columns = columns)\n",
    "                sentences_window.columns = sentences_window.columns.astype(str)\n",
    "                sentences_window = sentences_window.dropna()\n",
    "\n",
    "                print(\"Saving file:\", sentences_window_file_name) \n",
    "                sentences_window.to_parquet(sentences_window_file_name, compression='brotli', index = False)\n",
    "\n",
    "\n",
    "        except Exception as e:\n",
    "            print(str(e))"
   ]
  },
  {
   "cell_type": "markdown",
   "metadata": {},
   "source": [
    "# Tuple2Sentence"
   ]
  },
  {
   "cell_type": "markdown",
   "metadata": {},
   "source": [
    "Conversão em Paralelo"
   ]
  },
  {
   "cell_type": "code",
   "execution_count": null,
   "metadata": {},
   "outputs": [],
   "source": [
    "for n in range(0, 27):\n",
    "    Tuple2Sentence(n, 0.5, 100)\n",
    "print('Process finished.')"
   ]
  }
 ],
 "metadata": {
  "kernelspec": {
   "display_name": "Python 3",
   "language": "python",
   "name": "python3"
  },
  "language_info": {
   "codemirror_mode": {
    "name": "ipython",
    "version": 3
   },
   "file_extension": ".py",
   "mimetype": "text/x-python",
   "name": "python",
   "nbconvert_exporter": "python",
   "pygments_lexer": "ipython3",
   "version": "3.8.8"
  }
 },
 "nbformat": 4,
 "nbformat_minor": 4
}
