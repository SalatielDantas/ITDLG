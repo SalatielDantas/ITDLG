{
 "cells": [
  {
   "cell_type": "markdown",
   "metadata": {
    "id": "TD4OywR1-4Yl"
   },
   "source": [
    "# Instalação de dependências"
   ]
  },
  {
   "cell_type": "code",
   "execution_count": 3,
   "metadata": {},
   "outputs": [
    {
     "name": "stdout",
     "output_type": "stream",
     "text": [
      "Requirement already satisfied: binary in ./anaconda3/lib/python3.8/site-packages (1.0.0)\n",
      "Collecting gensim==3.6.0\n",
      "  Using cached gensim-3.6.0-cp38-cp38-linux_x86_64.whl\n",
      "Requirement already satisfied: scipy>=0.18.1 in ./anaconda3/lib/python3.8/site-packages (from gensim==3.6.0) (1.7.2)\n",
      "Requirement already satisfied: six>=1.5.0 in ./anaconda3/lib/python3.8/site-packages (from gensim==3.6.0) (1.15.0)\n",
      "Requirement already satisfied: numpy>=1.11.3 in ./anaconda3/lib/python3.8/site-packages (from gensim==3.6.0) (1.19.5)\n",
      "Requirement already satisfied: smart-open>=1.2.1 in ./anaconda3/lib/python3.8/site-packages (from gensim==3.6.0) (5.1.0)\n",
      "Installing collected packages: gensim\n",
      "Successfully installed gensim-3.6.0\n"
     ]
    }
   ],
   "source": [
    "!pip install binary gensim==3.6.0"
   ]
  },
  {
   "cell_type": "code",
   "execution_count": 2,
   "metadata": {},
   "outputs": [
    {
     "name": "stdout",
     "output_type": "stream",
     "text": [
      "Found existing installation: numpy 1.19.5\n",
      "Uninstalling numpy-1.19.5:\n",
      "  Successfully uninstalled numpy-1.19.5\n"
     ]
    }
   ],
   "source": [
    "#!pip3 uninstall gensim -y\n",
    "!pip3 uninstall numpy -y    \n",
    "#!apt-get install python3-dev build-essential      \n",
    "#!pip3 install --upgrade gensim"
   ]
  },
  {
   "cell_type": "code",
   "execution_count": 3,
   "metadata": {},
   "outputs": [
    {
     "name": "stdout",
     "output_type": "stream",
     "text": [
      "Collecting numpy\n",
      "  Downloading numpy-1.21.5-cp38-cp38-manylinux_2_12_x86_64.manylinux2010_x86_64.whl (15.7 MB)\n",
      "     |████████████████████████████████| 15.7 MB 3.8 MB/s            \n",
      "\u001b[?25hInstalling collected packages: numpy\n",
      "\u001b[31mERROR: pip's dependency resolver does not currently take into account all the packages that are installed. This behaviour is the source of the following dependency conflicts.\n",
      "tensorflow 2.6.0 requires numpy~=1.19.2, but you have numpy 1.21.5 which is incompatible.\n",
      "tensorflow-gpu 2.6.0 requires numpy~=1.19.2, but you have numpy 1.21.5 which is incompatible.\u001b[0m\n",
      "Successfully installed numpy-1.21.5\n"
     ]
    }
   ],
   "source": [
    "!pip install numpy"
   ]
  },
  {
   "cell_type": "code",
   "execution_count": 1,
   "metadata": {
    "colab": {
     "base_uri": "https://localhost:8080/"
    },
    "id": "h2yAvehq-xHt",
    "outputId": "cba11b91-b499-459f-fe23-5d68b60ac674"
   },
   "outputs": [
    {
     "name": "stdout",
     "output_type": "stream",
     "text": [
      "Collecting gensim==3.6.0\n",
      "  Using cached gensim-3.6.0-cp38-cp38-linux_x86_64.whl\n",
      "Requirement already satisfied: scipy>=0.18.1 in ./anaconda3/lib/python3.8/site-packages (from gensim==3.6.0) (1.7.2)\n",
      "Requirement already satisfied: six>=1.5.0 in ./anaconda3/lib/python3.8/site-packages (from gensim==3.6.0) (1.15.0)\n",
      "Requirement already satisfied: numpy>=1.11.3 in ./anaconda3/lib/python3.8/site-packages (from gensim==3.6.0) (1.19.5)\n",
      "Requirement already satisfied: smart-open>=1.2.1 in ./anaconda3/lib/python3.8/site-packages (from gensim==3.6.0) (5.1.0)\n",
      "Installing collected packages: gensim\n",
      "  Attempting uninstall: gensim\n",
      "    Found existing installation: gensim 4.1.2\n",
      "    Uninstalling gensim-4.1.2:\n",
      "      Successfully uninstalled gensim-4.1.2\n",
      "Successfully installed gensim-3.6.0\n"
     ]
    }
   ],
   "source": [
    "!pip install gensim==3.6.0\n",
    "#!pip install gensim==3.7.1\n",
    "#!pip install gensim==4.0.1"
   ]
  },
  {
   "cell_type": "markdown",
   "metadata": {
    "id": "_F1MrhcZ-7Zu"
   },
   "source": [
    "# Bibliotecas"
   ]
  },
  {
   "cell_type": "code",
   "execution_count": 1,
   "metadata": {
    "id": "XeMfHRaC_BMP"
   },
   "outputs": [],
   "source": [
    "import pandas as pd\n",
    "import numpy as np\n",
    "import csv\n",
    "import multiprocessing\n",
    "from gensim.models import Word2Vec\n",
    "from gensim.models import KeyedVectors\n",
    "from time import time  # To time our operations\n",
    "\n",
    "#import logging  # Setting up the loggings to monitor gensim\n",
    "#logging.basicConfig(format=\"%(levelname)s - %(asctime)s: %(message)s\", datefmt= '%H:%M:%S', level=logging.INFO)"
   ]
  },
  {
   "cell_type": "markdown",
   "metadata": {
    "id": "sMvwBgqddN9Z"
   },
   "source": [
    "# Funções"
   ]
  },
  {
   "cell_type": "code",
   "execution_count": 2,
   "metadata": {
    "id": "004zLHHddPAo"
   },
   "outputs": [],
   "source": [
    "import gensim\n",
    "def deleteSentinel(word, count, min_count):\n",
    "  if (word == 'Sentinel'):\n",
    "    print(word)\n",
    "    return gensim.utils.RULE_DISCARD\n",
    "  else:\n",
    "    return gensim.utils.RULE_DEFAULT"
   ]
  },
  {
   "cell_type": "markdown",
   "metadata": {
    "id": "rYFJ1MGPgQlw"
   },
   "source": [
    "# Tuplas\n",
    "Seção de leitura e treinamento dos dados no formado de tuplas"
   ]
  },
  {
   "cell_type": "markdown",
   "metadata": {
    "id": "X9t4xYTOwRFB"
   },
   "source": [
    "## Treinamento Separado"
   ]
  },
  {
   "cell_type": "markdown",
   "metadata": {
    "id": "xHloq6HRom6U"
   },
   "source": [
    "### Dados em Tuplas\n",
    "Nesse modelo os dados estão no formato <centro, vizinho>"
   ]
  },
  {
   "cell_type": "code",
   "execution_count": 63,
   "metadata": {
    "colab": {
     "base_uri": "https://localhost:8080/"
    },
    "id": "YYZR71VCgSKP",
    "outputId": "5e92db80-9f9e-4d0f-abce-887d4b793535"
   },
   "outputs": [
    {
     "name": "stdout",
     "output_type": "stream",
     "text": [
      "(66091, 3)\n",
      "(66091, 3)\n"
     ]
    }
   ],
   "source": [
    "#Quantidade de tuplas de vizinhos nos dados do yelp (center, context) considerando d = 100m\n",
    "tuples = pd.read_csv('austin-sl-tuple-n-itdl-0bin-wgt0.3.csv')\n",
    "print(tuples.shape)\n",
    "tuples = tuples.dropna()\n",
    "print(tuples.shape)"
   ]
  },
  {
   "cell_type": "code",
   "execution_count": 64,
   "metadata": {
    "colab": {
     "base_uri": "https://localhost:8080/",
     "height": 204
    },
    "id": "-aHJEUnCgyrx",
    "outputId": "f6459297-8fdd-4b79-9e78-9e9a80cdf274"
   },
   "outputs": [
    {
     "data": {
      "text/html": [
       "<div>\n",
       "<style scoped>\n",
       "    .dataframe tbody tr th:only-of-type {\n",
       "        vertical-align: middle;\n",
       "    }\n",
       "\n",
       "    .dataframe tbody tr th {\n",
       "        vertical-align: top;\n",
       "    }\n",
       "\n",
       "    .dataframe thead th {\n",
       "        text-align: right;\n",
       "    }\n",
       "</style>\n",
       "<table border=\"1\" class=\"dataframe\">\n",
       "  <thead>\n",
       "    <tr style=\"text-align: right;\">\n",
       "      <th></th>\n",
       "      <th>centerPoI</th>\n",
       "      <th>contextPoI</th>\n",
       "    </tr>\n",
       "  </thead>\n",
       "  <tbody>\n",
       "    <tr>\n",
       "      <th>0</th>\n",
       "      <td>Doctors</td>\n",
       "      <td>Pediatricians</td>\n",
       "    </tr>\n",
       "    <tr>\n",
       "      <th>1</th>\n",
       "      <td>Health &amp; Medical</td>\n",
       "      <td>Pediatricians</td>\n",
       "    </tr>\n",
       "    <tr>\n",
       "      <th>2</th>\n",
       "      <td>Internal Medicine</td>\n",
       "      <td>Pediatricians</td>\n",
       "    </tr>\n",
       "    <tr>\n",
       "      <th>3</th>\n",
       "      <td>Family Practice</td>\n",
       "      <td>Pediatricians</td>\n",
       "    </tr>\n",
       "    <tr>\n",
       "      <th>4</th>\n",
       "      <td>Massage Therapy</td>\n",
       "      <td>Doctors</td>\n",
       "    </tr>\n",
       "  </tbody>\n",
       "</table>\n",
       "</div>"
      ],
      "text/plain": [
       "           centerPoI     contextPoI\n",
       "0            Doctors  Pediatricians\n",
       "1   Health & Medical  Pediatricians\n",
       "2  Internal Medicine  Pediatricians\n",
       "3    Family Practice  Pediatricians\n",
       "4    Massage Therapy        Doctors"
      ]
     },
     "execution_count": 64,
     "metadata": {},
     "output_type": "execute_result"
    }
   ],
   "source": [
    "##Utilizando apenas os tipos dos PoIs para criação das sentenças no Word2Vec\n",
    "tuples = tuples[['centerPoI', 'contextPoI']]\n",
    "tuples.head()"
   ]
  },
  {
   "cell_type": "code",
   "execution_count": 68,
   "metadata": {
    "id": "dmsXbNbUqMgd"
   },
   "outputs": [],
   "source": [
    "sentencesTuples = tuples.values.tolist()"
   ]
  },
  {
   "cell_type": "markdown",
   "metadata": {
    "id": "AzIzOXRdn10p"
   },
   "source": [
    "### Treinamento Tupla\n",
    "Modelo da versão que utiliza tuplas para treinamento"
   ]
  },
  {
   "cell_type": "code",
   "execution_count": null,
   "metadata": {
    "id": "9mkCQgsIrcv0"
   },
   "outputs": [],
   "source": [
    "#p2v_modeltp = Word2Vec.load('austin-sl-sentences-n-itdl-0bin-wgt0.3-wnd5-d.model')\n",
    "#a = KeyedVectors.load_word2vec_format('austin-sl-sentences-n-itdl-0bin-wgt0.3-wnd5-d.model')"
   ]
  },
  {
   "cell_type": "code",
   "execution_count": 65,
   "metadata": {
    "colab": {
     "base_uri": "https://localhost:8080/"
    },
    "id": "1MTF6ik5Uxj6",
    "outputId": "ca4cc536-ba7c-4c15-877c-d065e6cc91f8"
   },
   "outputs": [
    {
     "data": {
      "text/plain": [
       "2"
      ]
     },
     "execution_count": 65,
     "metadata": {},
     "output_type": "execute_result"
    }
   ],
   "source": [
    "cores = multiprocessing.cpu_count() # Count the number of cores in a computer\n",
    "cores"
   ]
  },
  {
   "cell_type": "code",
   "execution_count": 66,
   "metadata": {
    "id": "S5x5WShEoPZf"
   },
   "outputs": [],
   "source": [
    "p2v_modeltp = Word2Vec(min_count=1,\n",
    "                     #window=2,\n",
    "                     sg=1, #Skip-gram\n",
    "                     window=1,\n",
    "                     size=70,\n",
    "                     sample=6e-5, \n",
    "                     alpha=0.03, \n",
    "                     min_alpha=0.0007, \n",
    "                     negative=20,\n",
    "                     workers=cores-1)"
   ]
  },
  {
   "cell_type": "code",
   "execution_count": 69,
   "metadata": {
    "colab": {
     "base_uri": "https://localhost:8080/"
    },
    "id": "pNqcoCTtqdCD",
    "outputId": "a05d380d-3334-428f-c8ca-21ab22aebd29"
   },
   "outputs": [
    {
     "name": "stdout",
     "output_type": "stream",
     "text": [
      "Time to build vocab: 0.0 mins\n"
     ]
    }
   ],
   "source": [
    "t = time()\n",
    "p2v_modeltp.build_vocab(sentencesTuples, progress_per=10000)\n",
    "print('Time to build vocab: {} mins'.format(round((time() - t) / 60, 2)))"
   ]
  },
  {
   "cell_type": "code",
   "execution_count": 70,
   "metadata": {
    "colab": {
     "base_uri": "https://localhost:8080/"
    },
    "id": "TiNNOoUMq5AO",
    "outputId": "d8ab53ea-3a78-4c8e-c9f3-bc336dd5419b"
   },
   "outputs": [
    {
     "name": "stdout",
     "output_type": "stream",
     "text": [
      "Time to train the model: 0.05 mins\n"
     ]
    }
   ],
   "source": [
    "t = time()\n",
    "p2v_modeltp.train(sentencesTuples, total_examples=p2v_modeltp.corpus_count, epochs=30, report_delay=1)\n",
    "print('Time to train the model: {} mins'.format(round((time() - t) / 60, 2)))"
   ]
  },
  {
   "cell_type": "code",
   "execution_count": null,
   "metadata": {
    "id": "NoTXAUX5s5UV"
   },
   "outputs": [],
   "source": [
    "p2v_modeltp.save('yelpdecatur-sl-tuple-n-itdl-8bin-wgt0.7.model')"
   ]
  },
  {
   "cell_type": "code",
   "execution_count": 74,
   "metadata": {
    "colab": {
     "base_uri": "https://localhost:8080/"
    },
    "id": "9qnkDUPIVkD4",
    "outputId": "b4cde7b9-9b1a-4789-fa85-d91abd1a6fe0"
   },
   "outputs": [
    {
     "data": {
      "text/plain": [
       "[('Pool Halls', 0.9996172189712524),\n",
       " ('Farmers Market', 0.999565601348877),\n",
       " ('Eyewear & Opticians', 0.999527096748352),\n",
       " ('Home & Rental Insurance', 0.9995150566101074),\n",
       " ('Bankruptcy Law', 0.9995096325874329),\n",
       " ('Personal Care Services', 0.9995072484016418),\n",
       " ('Guns & Ammo', 0.9995056390762329),\n",
       " ('Modern European', 0.9994992017745972),\n",
       " ('Tacos', 0.9994903206825256),\n",
       " ('Korean', 0.9994902014732361)]"
      ]
     },
     "execution_count": 74,
     "metadata": {},
     "output_type": "execute_result"
    }
   ],
   "source": [
    "p2v_modeltp.wv.most_similar(positive=['Pizza'])"
   ]
  },
  {
   "cell_type": "code",
   "execution_count": null,
   "metadata": {
    "colab": {
     "base_uri": "https://localhost:8080/"
    },
    "id": "f7KZqIIhfRgy",
    "outputId": "8dfc4af4-587a-4246-dc33-bc73b74f4643"
   },
   "outputs": [
    {
     "data": {
      "text/plain": [
       "[('Health & Medical', 0.9993394613265991),\n",
       " ('Florists', 0.9993362426757812),\n",
       " ('Neurologist', 0.9993259906768799),\n",
       " ('Food Trucks', 0.999309241771698),\n",
       " ('Firewood', 0.9993055462837219),\n",
       " ('Pressure Washers', 0.999303936958313),\n",
       " ('Self-defense Classes', 0.9993013143539429),\n",
       " ('Carpenters', 0.9993000030517578),\n",
       " ('Wheel & Rim Repair', 0.9992949962615967),\n",
       " ('Motorsport Vehicle Repairs', 0.9992905259132385)]"
      ]
     },
     "execution_count": 4,
     "metadata": {
      "tags": []
     },
     "output_type": "execute_result"
    }
   ],
   "source": [
    "p2v_modeltp.wv.most_similar(positive=['Pizza'])"
   ]
  },
  {
   "cell_type": "code",
   "execution_count": 71,
   "metadata": {
    "colab": {
     "base_uri": "https://localhost:8080/"
    },
    "id": "vRZuCEcvV-EX",
    "outputId": "c74611e9-c0d8-4d5c-f627-e6c75fc73a8e"
   },
   "outputs": [
    {
     "data": {
      "text/plain": [
       "[('Food', 0.9996383190155029),\n",
       " ('Oil Change Stations', 0.9995875954627991),\n",
       " ('Home Energy Auditors', 0.9995433688163757),\n",
       " ('Caribbean', 0.9995304346084595),\n",
       " ('Mini Golf', 0.9995277523994446),\n",
       " ('Mailbox Centers', 0.9995277523994446),\n",
       " ('Pool Halls', 0.9995244741439819),\n",
       " ('Apartments', 0.9995231032371521),\n",
       " ('Wheel & Rim Repair', 0.9995213747024536),\n",
       " ('Accessories', 0.9995169639587402)]"
      ]
     },
     "execution_count": 71,
     "metadata": {},
     "output_type": "execute_result"
    }
   ],
   "source": [
    "p2v_modeltp.wv.most_similar(positive=['Coffee & Tea'])"
   ]
  },
  {
   "cell_type": "code",
   "execution_count": 76,
   "metadata": {
    "colab": {
     "base_uri": "https://localhost:8080/"
    },
    "id": "rSKiqq6WWF4s",
    "outputId": "e9a4f861-c88a-4954-c5c7-d91b220ee477"
   },
   "outputs": [
    {
     "data": {
      "text/plain": [
       "[('Audio/Visual Equipment Rental', 0.9995119571685791),\n",
       " ('French', 0.9994892477989197),\n",
       " ('Tiling', 0.9994289875030518),\n",
       " ('Pilates', 0.9994286298751831),\n",
       " ('Wineries', 0.9994147419929504),\n",
       " ('Food Trucks', 0.9994110465049744),\n",
       " ('Steakhouses', 0.9994009733200073),\n",
       " ('Musicians', 0.9993941187858582),\n",
       " ('Arts & Entertainment', 0.9993936419487),\n",
       " (\"Men's Clothing\", 0.9993844628334045)]"
      ]
     },
     "execution_count": 76,
     "metadata": {},
     "output_type": "execute_result"
    }
   ],
   "source": [
    "p2v_modeltp.wv.most_similar(positive=['Shopping'])"
   ]
  },
  {
   "cell_type": "code",
   "execution_count": null,
   "metadata": {
    "colab": {
     "base_uri": "https://localhost:8080/"
    },
    "id": "2vtBmCegWLCa",
    "outputId": "3a4151c6-2165-4863-b5bd-89009ee61edb"
   },
   "outputs": [
    {
     "data": {
      "text/plain": [
       "0.69876593"
      ]
     },
     "execution_count": 15,
     "metadata": {
      "tags": []
     },
     "output_type": "execute_result"
    }
   ],
   "source": [
    "p2v_modeltp.wv.similarity(\"Pizza\", 'Bars')"
   ]
  },
  {
   "cell_type": "code",
   "execution_count": null,
   "metadata": {
    "colab": {
     "base_uri": "https://localhost:8080/"
    },
    "id": "Z8LNXXYkWYeg",
    "outputId": "acf3bc6c-2a14-4a2b-a8fc-e35cdf98247f"
   },
   "outputs": [
    {
     "data": {
      "text/plain": [
       "0.5337816"
      ]
     },
     "execution_count": 16,
     "metadata": {
      "tags": []
     },
     "output_type": "execute_result"
    }
   ],
   "source": [
    "p2v_modeltp.wv.similarity('Playgrounds', 'Kids Activities')"
   ]
  },
  {
   "cell_type": "markdown",
   "metadata": {
    "id": "-06Q-iwFwZ9z"
   },
   "source": [
    "## Treinamento em Pipeline"
   ]
  },
  {
   "cell_type": "markdown",
   "metadata": {},
   "source": [
    "Construindo vocabulário"
   ]
  },
  {
   "cell_type": "code",
   "execution_count": 17,
   "metadata": {},
   "outputs": [
    {
     "data": {
      "text/plain": [
       "195778"
      ]
     },
     "execution_count": 17,
     "metadata": {},
     "output_type": "execute_result"
    }
   ],
   "source": [
    "tuples = tuples.drop_duplicates()\n",
    "sentencesTuples = tuples.values.tolist()\n",
    "len(sentencesTuples)"
   ]
  },
  {
   "cell_type": "code",
   "execution_count": 3,
   "metadata": {
    "scrolled": true
   },
   "outputs": [
    {
     "data": {
      "text/plain": [
       "[['Hotels & Travel'],\n",
       " ['Financial Services'],\n",
       " ['Home Services'],\n",
       " ['Automotive'],\n",
       " ['Nightlife'],\n",
       " ['Education'],\n",
       " ['Event Planning & Services'],\n",
       " ['Shopping'],\n",
       " ['Local Flavor'],\n",
       " ['Restaurants'],\n",
       " ['Mass Media'],\n",
       " ['Local Services'],\n",
       " ['Health & Medical'],\n",
       " ['Food'],\n",
       " ['Religious Organizations'],\n",
       " ['Professional Services'],\n",
       " ['Public Services & Government'],\n",
       " ['Pets'],\n",
       " ['Active Life'],\n",
       " ['Arts & Entertainment']]"
      ]
     },
     "execution_count": 3,
     "metadata": {},
     "output_type": "execute_result"
    }
   ],
   "source": [
    "#Adicionando o vocabulário geral do yelp\n",
    "\n",
    "file_name = './yelp_categories.csv'\n",
    "\n",
    "vocabulary = pd.read_csv(file_name)\n",
    "\n",
    "\n",
    "##Utilizando apenas os tipos dos PoIs para criação das sentenças no Word2Vec\n",
    "vocabulary = vocabulary[['category']]\n",
    "\n",
    "#Adaptando para sentenças do word2vec\n",
    "vocabulary = vocabulary.values.tolist()\n",
    "vocabulary[0:20]"
   ]
  },
  {
   "cell_type": "code",
   "execution_count": null,
   "metadata": {
    "colab": {
     "base_uri": "https://localhost:8080/"
    },
    "id": "DgjzxY-bxEMK",
    "outputId": "c2e4e84b-6f51-4ec1-e65c-86de1087140f"
   },
   "outputs": [
    {
     "name": "stdout",
     "output_type": "stream",
     "text": [
      "Trainning model (tuple of bin): 17 layer: 0\n",
      "loading file: ./Austin/w05/ITDL Partial Bins/austin-sl-tuple-n-itdl-17bin-wgt0.5-p.parquet\n",
      "saving file: ./Austin/w05/ITDL Partial Bins/austin-sl-tuple-n-itdl-17bin-wgt0.5-p.model\n",
      "Trainning model (tuple of bin): 18 layer: 0\n",
      "loading file: ./Austin/w05/ITDL Partial Bins/austin-sl-tuple-n-itdl-18bin-wgt0.5-p.parquet\n",
      "saving file: ./Austin/w05/ITDL Partial Bins/austin-sl-tuple-n-itdl-18bin-wgt0.5-p.model\n",
      "Trainning model (tuple of bin): 19 layer: 0\n",
      "loading file: ./Austin/w05/ITDL Partial Bins/austin-sl-tuple-n-itdl-19bin-wgt0.5-p.parquet\n",
      "saving file: ./Austin/w05/ITDL Partial Bins/austin-sl-tuple-n-itdl-19bin-wgt0.5-p.model\n",
      "Trainning model (tuple of bin): 20 layer: 0\n",
      "loading file: ./Austin/w05/ITDL Partial Bins/austin-sl-tuple-n-itdl-20bin-wgt0.5-p.parquet\n"
     ]
    }
   ],
   "source": [
    "# Configurando variáveis de controle e inspeção\n",
    "\n",
    "cores = multiprocessing.cpu_count()   #Quantidade de cores utilizados no treinamento\n",
    "\n",
    "t = time()  #Tempo de realização do processo\n",
    "\n",
    "s = 22   #Quantidade de bins para leitura dos arquivos\n",
    "\n",
    "w = 0.5\n",
    "\n",
    "osm_table = 'bins_polygons_information'\n",
    "\n",
    "#layers = [1, 2, 3]\n",
    "layers = [1]\n",
    "\n",
    "for l in layers:\n",
    "\n",
    "    for n in range(17, s):\n",
    "        print('Trainning model (tuple of bin):', n, 'layer:', l)\n",
    "\n",
    "        #try:\n",
    "\n",
    "        #Lendo arquivos\n",
    "        file_name = './Austin/w05/ITDL Partial Bins/austin-sl-tuple-n-itdl-'+str(n)+'bin-wgt'+str(w)+'-p.parquet'\n",
    "        #file_name = './Austin/w05/ITDL Partial Bins Single Layers/austin-sl-tuple-n-itdl-'+str(n)+'bin-wgt'+str(w)+'-l'+str(l)+'-p.parquet'\n",
    "        #file_name = './Austin/w05/ITDL Osm Concat Bins/austin-sl-tuple-n-itdl-'+str(n)+'bin-wgt'+str(w)+'-'+str(osm_table)+'.parquet'\n",
    "\n",
    "        #tuples = pd.read_csv(file_name, error_bad_lines=False)\n",
    "        print(\"loading file:\", file_name)\n",
    "        tuples = pd.read_parquet(file_name)\n",
    "\n",
    "        #Removendo linhas danificadas\n",
    "        tuples = tuples.dropna()\n",
    "\n",
    "        ##Utilizando apenas os tipos dos PoIs para criação das sentenças no Word2Vec\n",
    "        tuples = tuples[['center_poi', 'context_poi']]\n",
    "        #tuples = tuples[['center_poi', 'context_osm']]\n",
    "        #tuples.head()\n",
    "\n",
    "        #Adaptando para sentenças do word2vec\n",
    "        sentencesTuples = tuples.values.tolist()\n",
    "\n",
    "        sentencesTuples.extend(vocabulary)             #Complementando o vocabulário\n",
    "\n",
    "        #Criando estrutura do skip-gram\n",
    "        p2v_modeltp = Word2Vec(min_count=1,\n",
    "                                window=1,\n",
    "                                sg=1, #Skip-gram\n",
    "                                size=70,\n",
    "                                sample=6e-5, \n",
    "                                alpha=0.03, \n",
    "                                min_alpha=0.0007, \n",
    "                                negative=20,\n",
    "                                workers=cores-1)\n",
    "\n",
    "\n",
    "        #Criando vocubulário\n",
    "        p2v_modeltp.build_vocab(sentencesTuples, progress_per=10000)\n",
    "\n",
    "\n",
    "        #Treinando o modelo\n",
    "        p2v_modeltp.train(sentencesTuples, total_examples=p2v_modeltp.corpus_count, epochs=30, report_delay=1)\n",
    "\n",
    "        #Salvando em arquivo\n",
    "        model_name = './Austin/w05/ITDL Partial Bins/austin-sl-tuple-n-itdl-'+str(n)+'bin-wgt'+str(w)+'-p.model'\n",
    "        #model_name = './Austin/w05/ITDL Partial Bins Single Layers/austin-sl-tuple-n-itdl-'+str(n)+'bin-wgt'+str(w)+'-l'+str(l)+'-p.model'\n",
    "        #model_name = './Austin/w05/ITDL Osm Concat Bins/austin-sl-tuple-n-itdl-'+str(n)+'bin-wgt'+str(w)+'-'+str(osm_table)+'.model'\n",
    "\n",
    "        print('saving file:', model_name)\n",
    "        p2v_modeltp.save(model_name)\n",
    "\n",
    "\n",
    "        #except Exception as e:\n",
    "            #print(str(e))\n",
    "        \n",
    "print('Process finish.')"
   ]
  },
  {
   "cell_type": "code",
   "execution_count": null,
   "metadata": {},
   "outputs": [],
   "source": [
    "p2v_modeltp"
   ]
  },
  {
   "cell_type": "markdown",
   "metadata": {
    "id": "j2JIjU9YBFuU"
   },
   "source": [
    "# Sentenças\n",
    "\n",
    "Os esperimentos serão realizados com o word2vec (skip-gram) com os seguintes parâmetros:\n",
    "- window = 2 para algoritmos puro e com fator; windows = n para versão com sentenças de lugares.\n",
    "- vector dimension = 70 (definido no artigo place2vec)\n",
    "- alpha = 0.03 (não especificado no artigo)"
   ]
  },
  {
   "cell_type": "markdown",
   "metadata": {
    "id": "WB4fgBIXwe6Z"
   },
   "source": [
    "## Treinamento Separado"
   ]
  },
  {
   "cell_type": "markdown",
   "metadata": {
    "id": "EZP9m5B50af_"
   },
   "source": [
    "### Dados em Sentenças\n",
    "Nesse modelo os dados estão no formato <vn, ..., v2, v1, v0, centro, v0, v1, v2, ..., vn>.\n",
    "\n",
    "Os vizinhos nos lados esquerdo e direito não são os mesmos"
   ]
  },
  {
   "cell_type": "code",
   "execution_count": 4,
   "metadata": {
    "colab": {
     "base_uri": "https://localhost:8080/",
     "height": 221
    },
    "id": "KgZsoKRoXkU3",
    "outputId": "34b24990-8dca-4c11-a5b6-4a899b7cc3ec"
   },
   "outputs": [
    {
     "name": "stdout",
     "output_type": "stream",
     "text": [
      "(66091, 3)\n"
     ]
    },
    {
     "data": {
      "text/html": [
       "<div>\n",
       "<style scoped>\n",
       "    .dataframe tbody tr th:only-of-type {\n",
       "        vertical-align: middle;\n",
       "    }\n",
       "\n",
       "    .dataframe tbody tr th {\n",
       "        vertical-align: top;\n",
       "    }\n",
       "\n",
       "    .dataframe thead th {\n",
       "        text-align: right;\n",
       "    }\n",
       "</style>\n",
       "<table border=\"1\" class=\"dataframe\">\n",
       "  <thead>\n",
       "    <tr style=\"text-align: right;\">\n",
       "      <th></th>\n",
       "      <th>0</th>\n",
       "      <th>1</th>\n",
       "      <th>2</th>\n",
       "    </tr>\n",
       "  </thead>\n",
       "  <tbody>\n",
       "    <tr>\n",
       "      <th>0</th>\n",
       "      <td>Acai Bowls</td>\n",
       "      <td>Sentinel</td>\n",
       "      <td>Local Services</td>\n",
       "    </tr>\n",
       "    <tr>\n",
       "      <th>1</th>\n",
       "      <td>Acai Bowls</td>\n",
       "      <td>Sentinel</td>\n",
       "      <td>Windows Installation</td>\n",
       "    </tr>\n",
       "    <tr>\n",
       "      <th>2</th>\n",
       "      <td>Acai Bowls</td>\n",
       "      <td>Sentinel</td>\n",
       "      <td>Home Services</td>\n",
       "    </tr>\n",
       "    <tr>\n",
       "      <th>3</th>\n",
       "      <td>Acai Bowls</td>\n",
       "      <td>Sentinel</td>\n",
       "      <td>Appliances &amp; Repair</td>\n",
       "    </tr>\n",
       "    <tr>\n",
       "      <th>4</th>\n",
       "      <td>Acai Bowls</td>\n",
       "      <td>Sentinel</td>\n",
       "      <td>Asian Fusion</td>\n",
       "    </tr>\n",
       "  </tbody>\n",
       "</table>\n",
       "</div>"
      ],
      "text/plain": [
       "            0         1                     2\n",
       "0  Acai Bowls  Sentinel        Local Services\n",
       "1  Acai Bowls  Sentinel  Windows Installation\n",
       "2  Acai Bowls  Sentinel         Home Services\n",
       "3  Acai Bowls  Sentinel   Appliances & Repair\n",
       "4  Acai Bowls  Sentinel          Asian Fusion"
      ]
     },
     "execution_count": 4,
     "metadata": {},
     "output_type": "execute_result"
    }
   ],
   "source": [
    "#csv.field_size_limit(sys.maxsize)\n",
    "#sentences = pd.read_csv('sentencestpma2.csv', engine='python')\n",
    "sentences = pd.read_csv('austin-sl-sentences-n-itdl-0bin-wgt0.3-wnd5-d.csv')\n",
    "print(sentences.shape)\n",
    "sentences.head()"
   ]
  },
  {
   "cell_type": "code",
   "execution_count": null,
   "metadata": {
    "id": "93NvA-kwfMr3"
   },
   "outputs": [],
   "source": [
    "#Opcional - Teoria não comprova\n",
    "supsentences = pd.concat([sentences, sentences[sentences.columns[::-1]]], ignore_index=True)\n",
    "print(supsentences.shape)\n",
    "supsentences.head()"
   ]
  },
  {
   "cell_type": "code",
   "execution_count": 6,
   "metadata": {
    "colab": {
     "base_uri": "https://localhost:8080/"
    },
    "id": "YlAffM3v_dVg",
    "outputId": "ebff5e10-9709-4c51-9202-f3e6314fadee"
   },
   "outputs": [
    {
     "name": "stdout",
     "output_type": "stream",
     "text": [
      "2\n"
     ]
    }
   ],
   "source": [
    "#Calculando o tamanho da janela de sentenças\n",
    "#windows_size = ((len(sentences.iloc[0])-1)/2)\n",
    "windows_size = (len(sentences.iloc[0])-1)\n",
    "print(windows_size)"
   ]
  },
  {
   "cell_type": "code",
   "execution_count": 7,
   "metadata": {
    "id": "mKuwpwXq_xga"
   },
   "outputs": [],
   "source": [
    "#Opcional - Utilizado em outros casos\n",
    "sentencesTokenizer = list()\n",
    "for id, row in sentences.iterrows():\n",
    "  sentencesTokenizer.append(row.tolist())\n",
    "  #break"
   ]
  },
  {
   "cell_type": "code",
   "execution_count": null,
   "metadata": {
    "id": "xGk0RzaJLbQK"
   },
   "outputs": [],
   "source": [
    "#Opcional - Utilizado para procurar palavras em uma sentença\n",
    "for l in sentencesTokenizer:\n",
    "  for s in l:\n",
    "    if(s == 'Gas & Service Stations'):\n",
    "      print(\"Yes baby, thank you\", s)\n",
    "      #break"
   ]
  },
  {
   "cell_type": "markdown",
   "metadata": {
    "id": "mxgtEcvF6uwE"
   },
   "source": [
    "Configuração dos núcleos de processamento"
   ]
  },
  {
   "cell_type": "markdown",
   "metadata": {
    "id": "rhcZExN_Uulj"
   },
   "source": [
    "### Treinamento Sentença\n",
    "Esta versão distribui os pontos vizinhos ao longo de uma sentença com o ponto central no meio da sentença. A posição dos vizinhos é definida pela distância ao ponto central."
   ]
  },
  {
   "cell_type": "code",
   "execution_count": 35,
   "metadata": {
    "colab": {
     "base_uri": "https://localhost:8080/"
    },
    "id": "4PNePkarwIYo",
    "outputId": "d9d509f4-1e3f-4c3c-d783-509e8c264472"
   },
   "outputs": [
    {
     "data": {
      "text/plain": [
       "2"
      ]
     },
     "execution_count": 35,
     "metadata": {},
     "output_type": "execute_result"
    }
   ],
   "source": [
    "cores = multiprocessing.cpu_count() # Count the number of cores in a computer\n",
    "cores"
   ]
  },
  {
   "cell_type": "code",
   "execution_count": 78,
   "metadata": {
    "id": "pfQI4-jPU3Y2"
   },
   "outputs": [],
   "source": [
    "p2v_modelst = Word2Vec(min_count=1,\n",
    "                     #window=windows_size,\n",
    "                     window=windows_size,\n",
    "                     size=70,\n",
    "                     sg=1, #Skip-gram\n",
    "                     sample=6e-5, \n",
    "                     alpha=0.03, \n",
    "                     min_alpha=0.0007, \n",
    "                     negative=20,\n",
    "                     workers=cores-1)"
   ]
  },
  {
   "cell_type": "code",
   "execution_count": 79,
   "metadata": {
    "colab": {
     "base_uri": "https://localhost:8080/"
    },
    "id": "wM9fbleAVAd6",
    "outputId": "b0b23b99-34b2-4eb7-d4db-5b33818bd59f"
   },
   "outputs": [
    {
     "name": "stdout",
     "output_type": "stream",
     "text": [
      "Time to build vocab: 0.01 mins\n"
     ]
    }
   ],
   "source": [
    "t = time()\n",
    "p2v_modelst.build_vocab(sentencesTokenizer, progress_per=10000)\n",
    "#p2v_modelst.build_vocab(sentencesTokenizer, progress_per=10000, trim_rule=deleteSentinel)\n",
    "print('Time to build vocab: {} mins'.format(round((time() - t) / 60, 2)))"
   ]
  },
  {
   "cell_type": "code",
   "execution_count": 80,
   "metadata": {
    "colab": {
     "base_uri": "https://localhost:8080/"
    },
    "id": "IKnqPqAoVl-m",
    "outputId": "af5ce39d-7537-4e2f-ee3c-9dcf591b62fe"
   },
   "outputs": [
    {
     "name": "stdout",
     "output_type": "stream",
     "text": [
      "Time to train the model: 0.08 mins\n"
     ]
    }
   ],
   "source": [
    "t = time()\n",
    "p2v_modelst.train(sentencesTokenizer, total_examples=p2v_modelst.corpus_count, epochs=30, report_delay=1)\n",
    "print('Time to train the model: {} mins'.format(round((time() - t) / 60, 2)))"
   ]
  },
  {
   "cell_type": "code",
   "execution_count": 56,
   "metadata": {
    "colab": {
     "base_uri": "https://localhost:8080/"
    },
    "id": "M-tyRGfxU0jJ",
    "outputId": "3d9d9232-d9f6-46a1-936c-db632546a2a5"
   },
   "outputs": [
    {
     "data": {
      "text/plain": [
       "[('Tours', 0.8263634443283081),\n",
       " ('Firearm Training', 0.8196747899055481),\n",
       " ('Party Bus Rentals', 0.8186376094818115),\n",
       " ('Private Investigation', 0.8130941987037659),\n",
       " ('Hotels & Travel', 0.8121546506881714),\n",
       " ('Automotive', 0.8108544945716858),\n",
       " ('Event Planning & Services', 0.8011888265609741),\n",
       " ('Pets', 0.7972355484962463),\n",
       " ('Wine Tours', 0.79390549659729),\n",
       " ('Transportation', 0.7902112007141113)]"
      ]
     },
     "execution_count": 56,
     "metadata": {},
     "output_type": "execute_result"
    }
   ],
   "source": [
    "p2v_modelst.wv.most_similar(positive=['Sentinel'])"
   ]
  },
  {
   "cell_type": "code",
   "execution_count": null,
   "metadata": {
    "id": "B38nXzZZ3LdK"
   },
   "outputs": [],
   "source": [
    "p2v_modelst.save('test.model')"
   ]
  },
  {
   "cell_type": "code",
   "execution_count": null,
   "metadata": {
    "colab": {
     "base_uri": "https://localhost:8080/",
     "height": 316
    },
    "id": "fiUAYO38fUfa",
    "outputId": "fed9103b-1d6e-4455-c2a5-80556c911571",
    "scrolled": true
   },
   "outputs": [],
   "source": [
    "p2v_modelst.wv.most_similar(positive=['Sentinel'])"
   ]
  },
  {
   "cell_type": "code",
   "execution_count": 75,
   "metadata": {
    "colab": {
     "base_uri": "https://localhost:8080/"
    },
    "id": "vdkc6BQBiBsJ",
    "outputId": "fd01bd97-cfad-4335-bd2c-97ccb0b6b058"
   },
   "outputs": [
    {
     "data": {
      "text/plain": [
       "[('Pool Halls', 0.9995749592781067),\n",
       " ('Couriers & Delivery Services', 0.9995175004005432),\n",
       " ('Farmers Market', 0.9995113015174866),\n",
       " ('Bankruptcy Law', 0.9995080828666687),\n",
       " ('Tacos', 0.9995059967041016),\n",
       " ('Eyewear & Opticians', 0.9995003938674927),\n",
       " ('Wheel & Rim Repair', 0.9994894862174988),\n",
       " ('Korean', 0.9994890689849854),\n",
       " ('Modern European', 0.9994849562644958),\n",
       " ('Home & Rental Insurance', 0.9994841814041138)]"
      ]
     },
     "execution_count": 75,
     "metadata": {},
     "output_type": "execute_result"
    }
   ],
   "source": [
    "p2v_modelst.wv.most_similar(positive=['Pizza'])"
   ]
  },
  {
   "cell_type": "code",
   "execution_count": 73,
   "metadata": {
    "colab": {
     "base_uri": "https://localhost:8080/"
    },
    "id": "XD69fyO9Ww9G",
    "outputId": "ca1f7758-f799-4039-9779-d9190252184a"
   },
   "outputs": [
    {
     "data": {
      "text/plain": [
       "[('Oil Change Stations', 0.9995405077934265),\n",
       " ('Caribbean', 0.9994879961013794),\n",
       " ('Food', 0.999480664730072),\n",
       " ('Mini Golf', 0.9994805455207825),\n",
       " ('Local Flavor', 0.9994764924049377),\n",
       " ('Home Energy Auditors', 0.9994749426841736),\n",
       " ('Wheel & Rim Repair', 0.9994710087776184),\n",
       " ('Laundromat', 0.9994590878486633),\n",
       " ('Tenant and Eviction Law', 0.999457836151123),\n",
       " ('Audio/Visual Equipment Rental', 0.9994561672210693)]"
      ]
     },
     "execution_count": 73,
     "metadata": {},
     "output_type": "execute_result"
    }
   ],
   "source": [
    "p2v_modelst.wv.most_similar(positive=['Coffee & Tea'])"
   ]
  },
  {
   "cell_type": "code",
   "execution_count": 83,
   "metadata": {
    "colab": {
     "base_uri": "https://localhost:8080/"
    },
    "id": "_qsqm3zoW87Q",
    "outputId": "93468862-21c3-40ab-b619-d89b4faf4712"
   },
   "outputs": [
    {
     "data": {
      "text/plain": [
       "[('Building Supplies', 0.9985255599021912),\n",
       " ('Shoe Stores', 0.9983384013175964),\n",
       " ('Bridal', 0.9980649352073669),\n",
       " ('Pizza', 0.9980148077011108),\n",
       " ('Walking Tours', 0.9980079531669617),\n",
       " ('Hardware Stores', 0.9979990720748901),\n",
       " ('Nail Technicians', 0.997900664806366),\n",
       " ('Home Energy Auditors', 0.9978245496749878),\n",
       " ('Tiling', 0.9977424144744873),\n",
       " ('Utilities', 0.9977139234542847),\n",
       " ('Hookah Bars', 0.9976836442947388),\n",
       " ('Thai', 0.9976762533187866),\n",
       " ('Kids Hair Salons', 0.9976366758346558),\n",
       " ('Masonry/Concrete', 0.9976356029510498),\n",
       " ('Modern European', 0.997622549533844),\n",
       " ('Public Transportation', 0.9975969791412354),\n",
       " ('Trailer Repair', 0.9975488781929016),\n",
       " ('Mobile Phone Repair', 0.9975332021713257),\n",
       " ('Wheel & Rim Repair', 0.9975090622901917),\n",
       " ('Animal Shelters', 0.9975043535232544),\n",
       " ('Sports Clubs', 0.9975021481513977),\n",
       " ('Decks & Railing', 0.9974951148033142),\n",
       " ('Oil Change Stations', 0.9974868893623352),\n",
       " ('Fitness/Exercise Equipment', 0.9974846243858337),\n",
       " ('Jewelry', 0.9974657893180847),\n",
       " ('Accessories', 0.9974444508552551),\n",
       " ('Souvenir Shops', 0.9974393248558044),\n",
       " ('Zoos', 0.9974378347396851),\n",
       " ('Comic Books', 0.9974232316017151),\n",
       " ('Toy Stores', 0.9974172115325928)]"
      ]
     },
     "execution_count": 83,
     "metadata": {},
     "output_type": "execute_result"
    }
   ],
   "source": [
    "p2v_modelst.wv.most_similar(positive=['Shopping'], topn=30)"
   ]
  },
  {
   "cell_type": "code",
   "execution_count": null,
   "metadata": {
    "colab": {
     "base_uri": "https://localhost:8080/"
    },
    "id": "MjLiJ0aMXNFJ",
    "outputId": "eb5185e2-480a-4f43-d47d-24e499853607"
   },
   "outputs": [
    {
     "data": {
      "text/plain": [
       "0.4767316"
      ]
     },
     "execution_count": 26,
     "metadata": {
      "tags": []
     },
     "output_type": "execute_result"
    }
   ],
   "source": [
    "p2v_modelst.wv.similarity(\"Pizza\", 'Bars')"
   ]
  },
  {
   "cell_type": "code",
   "execution_count": null,
   "metadata": {
    "colab": {
     "base_uri": "https://localhost:8080/"
    },
    "id": "irJjmhU1klrR",
    "outputId": "5f0906d5-928c-464f-a5e4-c822f947f85a"
   },
   "outputs": [
    {
     "data": {
      "text/plain": [
       "0.40262905"
      ]
     },
     "execution_count": 27,
     "metadata": {
      "tags": []
     },
     "output_type": "execute_result"
    }
   ],
   "source": [
    "p2v_modelst.wv.similarity('Playgrounds', 'Kids Activities')"
   ]
  },
  {
   "cell_type": "code",
   "execution_count": null,
   "metadata": {
    "colab": {
     "base_uri": "https://localhost:8080/"
    },
    "id": "xOdDSoX3Ed6s",
    "outputId": "80d20231-87a2-4414-9cf6-07edf8916fbd"
   },
   "outputs": [
    {
     "data": {
      "text/plain": [
       "[('Interior Design', 0.6132070422172546),\n",
       " ('Orthotics', 0.6077588200569153),\n",
       " ('Home Services', 0.599266767501831),\n",
       " ('Basketball Courts', 0.5984383821487427),\n",
       " ('Golf Lessons', 0.5901661515235901),\n",
       " ('Airport Shuttles', 0.5899162888526917),\n",
       " ('Private Tutors', 0.5883011817932129),\n",
       " ('Professional Services', 0.5881460905075073),\n",
       " ('Golf', 0.5878017544746399),\n",
       " ('Test Preparation', 0.5821858048439026)]"
      ]
     },
     "execution_count": 15,
     "metadata": {
      "tags": []
     },
     "output_type": "execute_result"
    }
   ],
   "source": [
    "p2v_modelst.wv.most_similar(positive=['Sentinel'])"
   ]
  },
  {
   "cell_type": "markdown",
   "metadata": {
    "id": "2FIK-2gOwinc"
   },
   "source": [
    "## Treinamento em Pipeline"
   ]
  },
  {
   "cell_type": "markdown",
   "metadata": {
    "id": "ePXhHT4KmZLc"
   },
   "source": [
    "Orientado a bin"
   ]
  },
  {
   "cell_type": "code",
   "execution_count": 3,
   "metadata": {},
   "outputs": [
    {
     "data": {
      "text/plain": [
       "[['Hotels & Travel'],\n",
       " ['Financial Services'],\n",
       " ['Home Services'],\n",
       " ['Automotive'],\n",
       " ['Nightlife'],\n",
       " ['Education'],\n",
       " ['Event Planning & Services'],\n",
       " ['Shopping'],\n",
       " ['Local Flavor'],\n",
       " ['Restaurants'],\n",
       " ['Mass Media'],\n",
       " ['Local Services'],\n",
       " ['Health & Medical'],\n",
       " ['Food'],\n",
       " ['Religious Organizations'],\n",
       " ['Professional Services'],\n",
       " ['Public Services & Government'],\n",
       " ['Pets'],\n",
       " ['Active Life'],\n",
       " ['Arts & Entertainment']]"
      ]
     },
     "execution_count": 3,
     "metadata": {},
     "output_type": "execute_result"
    }
   ],
   "source": [
    "#Adicionando o vocabulário geral do yelp\n",
    "\n",
    "file_name = './yelp_categories.csv'\n",
    "\n",
    "vocabulary = pd.read_csv(file_name)\n",
    "\n",
    "\n",
    "##Utilizando apenas os tipos dos PoIs para criação das sentenças no Word2Vec\n",
    "vocabulary = vocabulary[['category']]\n",
    "\n",
    "#Adaptando para sentenças do word2vec\n",
    "vocabulary = vocabulary.values.tolist()\n",
    "vocabulary[0:20]"
   ]
  },
  {
   "cell_type": "code",
   "execution_count": 5,
   "metadata": {
    "colab": {
     "base_uri": "https://localhost:8080/"
    },
    "id": "CHXpkxmjywQn",
    "outputId": "df0a1952-278e-4096-fd71-0a9ed3d3808f"
   },
   "outputs": [],
   "source": [
    "# Configurando variáveis de controle e inspeção\n",
    "\n",
    "cores = multiprocessing.cpu_count()   #Quantidade de cores utilizados no treinamento\n",
    "\n",
    "t = time()  #Tempo de realização do processo\n",
    "\n",
    "s = 6   #Quantidade de bins para leitura dos arquivos\n",
    "\n",
    "w = 5  #Tamanho da janela\n",
    "\n",
    "wgt = 0.7\n",
    "\n",
    "for n in range(19, s):\n",
    "    print('Trainning model (sentence of bin):', n, '...')\n",
    "    \n",
    "    try:\n",
    "        \n",
    "        #Lendo arquivos\n",
    "        \n",
    "        #file_name = 'yelpdecatur-sl-sentences-n-itdl-'+ str(n) + 'bin-wgt'+str(wgt)+'-wnd' + str(w) + '.csv' \n",
    "        file_name = './Austin/w05/Sentences ITDL Partial Bins Single Layers/austin-sl-tuple-n-itdl-'+str(n)+'bin-wgt'+str(w)+'-'+str(osm_table)+'.parquet'\n",
    "\n",
    "        sentences = pd.read_csv(file_name)\n",
    "\n",
    "        #Removendo linhas danificadas\n",
    "        sentences = sentences.dropna()\n",
    "\n",
    "        #Calculando o tamanho da janela de sentenças\n",
    "        #windows_size = len(sentences.iloc[0])\n",
    "        #windows_size = ((len(sentences.iloc[0])-1)/2)\n",
    "        windows_size = (len(sentences.iloc[0])-1)\n",
    "        print(\"window size:\", windows_size, \" sentence size:\", w)\n",
    "        #Transformando dados para o formato do word2vec\n",
    "        sentencesTokenizer = list()\n",
    "        for id, row in sentences.iterrows():\n",
    "          sentencesTokenizer.append(row.tolist())\n",
    "\n",
    "\n",
    "        #Criando estrutura do skip-gram\n",
    "        p2v_modelst = Word2Vec(min_count=1,\n",
    "                     window=windows_size,\n",
    "                     size=70,\n",
    "                     sg=1, #Skip-gram\n",
    "                     sample=6e-5, \n",
    "                     alpha=0.03, \n",
    "                     min_alpha=0.0007, \n",
    "                     negative=20,\n",
    "                     workers=cores-1)\n",
    "        \n",
    "        #Criando vocubulário\n",
    "        p2v_modelst.build_vocab(sentencesTokenizer, progress_per=10000)\n",
    "        #p2v_modelst.build_vocab(sentencesTokenizer, progress_per=10000, trim_rule=deleteSentinel)\n",
    "\n",
    "        #Treinando o modelo\n",
    "        p2v_modelst.train(sentencesTokenizer, total_examples=p2v_modelst.corpus_count, epochs=30, report_delay=1)\n",
    "\n",
    "        #Removendo a sentinela\n",
    "        #p2v_modelst.wv.vocab.pop('Sentinel')\n",
    "\n",
    "        #Salvando em arquivo\n",
    "        model_name = 'yelpdecatur-sl-sentences-n-itdl-'+ str(n) + 'bin-wgt'+str(wgt)+'-wnd' + str(w) + '.model'\n",
    "        #model_name = 'yelpcambridge-sl-sentences-n-h-wfx' + str(w) + '.model'\n",
    "        #model_name = 'yelpcambridge-sl-sentences-n-h-bck-wfx' + str(w) + '.model'\n",
    "        #model_name = 'yelpdecatur-sl-sentences-n-itdl-'+str(n)+'bin-wg7-bnw.model'\n",
    "\n",
    "        p2v_modelst.save(model_name)\n",
    "\n",
    "    except Exception as e:\n",
    "        print(str(e))"
   ]
  },
  {
   "cell_type": "markdown",
   "metadata": {
    "id": "Dp-N5bEWmbo-"
   },
   "source": [
    "Orientado a Janela"
   ]
  },
  {
   "cell_type": "code",
   "execution_count": null,
   "metadata": {
    "colab": {
     "base_uri": "https://localhost:8080/"
    },
    "id": "N9Nq3r-Xj2Hk",
    "outputId": "1934e5ba-441e-4d74-bb3d-89c87420df71"
   },
   "outputs": [
    {
     "name": "stdout",
     "output_type": "stream",
     "text": [
      "Trainning model (sentence of bin): 5 ...\n",
      "window size: 2.0  sentence size: 5\n",
      "Trainning model (sentence of bin): 5 ...\n",
      "window size: 3.0  sentence size: 7\n",
      "Trainning model (sentence of bin): 5 ...\n",
      "window size: 4.0  sentence size: 9\n",
      "Trainning model (sentence of bin): 5 ...\n",
      "window size: 5.0  sentence size: 11\n"
     ]
    }
   ],
   "source": [
    "# Configurando variáveis de controle e inspeção\n",
    "\n",
    "cores = multiprocessing.cpu_count()   #Quantidade de cores utilizados no treinamento\n",
    "\n",
    "t = time()  #Tempo de realização do processo\n",
    "\n",
    "n = 5   #Quantidade de bins para leitura dos arquivos\n",
    "\n",
    "wnd = [5, 7, 9, 11]  #Tamanho da janela\n",
    "\n",
    "wgt = 0.7\n",
    "\n",
    "for w in wnd:\n",
    "    print('Trainning model (sentence of bin):', n, '...')\n",
    "    \n",
    "    try:\n",
    "        \n",
    "        #Lendo arquivos\n",
    "        \n",
    "        file_name = 'yelpdecatur-sl-sentences-n-itdl-'+ str(n) + 'bin-wgt'+str(wgt)+'-wnd' + str(w) + '.csv' \n",
    "\n",
    "\n",
    "        sentences = pd.read_csv(file_name)\n",
    "\n",
    "        #Removendo linhas danificadas\n",
    "        sentences = sentences.dropna()\n",
    "\n",
    "        #Calculando o tamanho da janela de sentenças\n",
    "        #windows_size = len(sentences.iloc[0])\n",
    "        windows_size = ((len(sentences.iloc[0])-1)/2)\n",
    "        print(\"window size:\", windows_size, \" sentence size:\", w)\n",
    "        #Transformando dados para o formato do word2vec\n",
    "        sentencesTokenizer = list()\n",
    "        for id, row in sentences.iterrows():\n",
    "          sentencesTokenizer.append(row.tolist())\n",
    "\n",
    "\n",
    "        #Criando estrutura do skip-gram\n",
    "        p2v_modelst = Word2Vec(min_count=1,\n",
    "                     window=windows_size,\n",
    "                     size=70,\n",
    "                     sg=1, #Skip-gram\n",
    "                     sample=6e-5, \n",
    "                     alpha=0.03, \n",
    "                     min_alpha=0.0007, \n",
    "                     negative=20,\n",
    "                     workers=cores-1)\n",
    "        \n",
    "        #Criando vocubulário\n",
    "        p2v_modelst.build_vocab(sentencesTokenizer, progress_per=10000)\n",
    "        p2v_modelst.build_vocab(sentencesTokenizer, progress_per=10000, trim_rule=deleteSentinel)\n",
    "\n",
    "        #Treinando o modelo\n",
    "        p2v_modelst.train(sentencesTokenizer, total_examples=p2v_modelst.corpus_count, epochs=30, report_delay=1)\n",
    "\n",
    "        #Removendo a sentinela\n",
    "        #p2v_modelst.wv.vocab.pop('Sentinel')\n",
    "\n",
    "        #Salvando em arquivo\n",
    "        model_name = 'yelpdecatur-sl-sentences-n-itdl-'+ str(n) + 'bin-wgt'+str(wgt)+'-wnd' + str(w) + '.model'\n",
    "        #model_name = 'yelpcambridge-sl-sentences-n-h-wfx' + str(w) + '.model'\n",
    "        #model_name = 'yelpcambridge-sl-sentences-n-h-bck-wfx' + str(w) + '.model'\n",
    "        #model_name = 'yelpdecatur-sl-sentences-n-itdl-'+str(n)+'bin-wg7-bnw.model'\n",
    "\n",
    "        p2v_modelst.save(model_name)\n",
    "\n",
    "    except Exception as e:\n",
    "        print(str(e))"
   ]
  },
  {
   "cell_type": "markdown",
   "metadata": {
    "id": "QIyni8aGmeC7"
   },
   "source": [
    "Orientado a bin e janela"
   ]
  },
  {
   "cell_type": "code",
   "execution_count": null,
   "metadata": {
    "colab": {
     "base_uri": "https://localhost:8080/"
    },
    "id": "UA86bg9UMe5M",
    "outputId": "05dc0221-92b1-4c04-fa57-45348546d7e2"
   },
   "outputs": [
    {
     "name": "stdout",
     "output_type": "stream",
     "text": [
      "OK\n"
     ]
    }
   ],
   "source": [
    "print('OK')"
   ]
  },
  {
   "cell_type": "code",
   "execution_count": null,
   "metadata": {
    "colab": {
     "base_uri": "https://localhost:8080/"
    },
    "id": "jGMFkttMmWc5",
    "outputId": "83a042ff-935d-49d9-cfcd-92e0b8a557b8",
    "scrolled": true
   },
   "outputs": [
    {
     "name": "stdout",
     "output_type": "stream",
     "text": [
      "Trainning model (sentence of bin): 0  window: 5\n",
      "window size: 2  sentence size: 5\n",
      "Trainning model (sentence of bin): 0  window: 7\n",
      "window size: 3  sentence size: 7\n",
      "Trainning model (sentence of bin): 1  window: 5\n",
      "window size: 2  sentence size: 5\n",
      "Trainning model (sentence of bin): 1  window: 7\n",
      "window size: 3  sentence size: 7\n",
      "Trainning model (sentence of bin): 2  window: 5\n",
      "window size: 2  sentence size: 5\n",
      "Trainning model (sentence of bin): 2  window: 7\n",
      "window size: 3  sentence size: 7\n",
      "Trainning model (sentence of bin): 3  window: 5\n",
      "window size: 2  sentence size: 5\n",
      "Trainning model (sentence of bin): 3  window: 7\n",
      "window size: 3  sentence size: 7\n",
      "Trainning model (sentence of bin): 4  window: 5\n",
      "window size: 2  sentence size: 5\n",
      "Trainning model (sentence of bin): 4  window: 7\n",
      "window size: 3  sentence size: 7\n",
      "Trainning model (sentence of bin): 5  window: 5\n",
      "window size: 2  sentence size: 5\n",
      "Trainning model (sentence of bin): 5  window: 7\n",
      "window size: 3  sentence size: 7\n",
      "Trainning model (sentence of bin): 6  window: 5\n",
      "window size: 2  sentence size: 5\n",
      "Trainning model (sentence of bin): 6  window: 7\n",
      "window size: 3  sentence size: 7\n",
      "Trainning model (sentence of bin): 7  window: 5\n",
      "window size: 2  sentence size: 5\n",
      "Trainning model (sentence of bin): 7  window: 7\n",
      "window size: 3  sentence size: 7\n",
      "Trainning model (sentence of bin): 8  window: 5\n",
      "window size: 2  sentence size: 5\n",
      "Trainning model (sentence of bin): 8  window: 7\n",
      "window size: 3  sentence size: 7\n",
      "Trainning model (sentence of bin): 9  window: 5\n",
      "window size: 2  sentence size: 5\n",
      "Trainning model (sentence of bin): 9  window: 7\n",
      "window size: 3  sentence size: 7\n",
      "Trainning model (sentence of bin): 10  window: 5\n",
      "window size: 2  sentence size: 5\n",
      "Trainning model (sentence of bin): 10  window: 7\n",
      "window size: 3  sentence size: 7\n",
      "Trainning model (sentence of bin): 11  window: 5\n",
      "window size: 2  sentence size: 5\n",
      "Trainning model (sentence of bin): 11  window: 7\n",
      "window size: 3  sentence size: 7\n",
      "Trainning model (sentence of bin): 12  window: 5\n",
      "window size: 2  sentence size: 5\n",
      "Trainning model (sentence of bin): 12  window: 7\n",
      "window size: 3  sentence size: 7\n",
      "Trainning model (sentence of bin): 13  window: 5\n",
      "window size: 2  sentence size: 5\n",
      "Trainning model (sentence of bin): 13  window: 7\n",
      "window size: 3  sentence size: 7\n",
      "Trainning model (sentence of bin): 14  window: 5\n",
      "window size: 2  sentence size: 5\n",
      "Trainning model (sentence of bin): 14  window: 7\n",
      "window size: 3  sentence size: 7\n",
      "Trainning model (sentence of bin): 15  window: 5\n",
      "window size: 2  sentence size: 5\n",
      "Trainning model (sentence of bin): 15  window: 7\n",
      "window size: 3  sentence size: 7\n",
      "Trainning model (sentence of bin): 16  window: 5\n",
      "window size: 2  sentence size: 5\n",
      "Trainning model (sentence of bin): 16  window: 7\n",
      "window size: 3  sentence size: 7\n",
      "Trainning model (sentence of bin): 17  window: 5\n",
      "window size: 2  sentence size: 5\n",
      "Trainning model (sentence of bin): 17  window: 7\n",
      "window size: 3  sentence size: 7\n",
      "Trainning model (sentence of bin): 18  window: 5\n",
      "window size: 2  sentence size: 5\n",
      "Trainning model (sentence of bin): 18  window: 7\n",
      "window size: 3  sentence size: 7\n",
      "Trainning model (sentence of bin): 19  window: 5\n",
      "window size: 2  sentence size: 5\n",
      "Trainning model (sentence of bin): 19  window: 7\n",
      "window size: 3  sentence size: 7\n",
      "Trainning model (sentence of bin): 20  window: 5\n",
      "window size: 2  sentence size: 5\n",
      "Trainning model (sentence of bin): 20  window: 7\n",
      "window size: 3  sentence size: 7\n",
      "Trainning model (sentence of bin): 21  window: 5\n",
      "window size: 2  sentence size: 5\n",
      "Trainning model (sentence of bin): 21  window: 7\n",
      "window size: 3  sentence size: 7\n",
      "Trainning model (sentence of bin): 22  window: 5\n",
      "window size: 2  sentence size: 5\n",
      "Trainning model (sentence of bin): 22  window: 7\n",
      "window size: 3  sentence size: 7\n",
      "Trainning model (sentence of bin): 23  window: 5\n",
      "window size: 2  sentence size: 5\n",
      "Trainning model (sentence of bin): 23  window: 7\n",
      "window size: 3  sentence size: 7\n",
      "Trainning model (sentence of bin): 24  window: 5\n",
      "window size: 2  sentence size: 5\n"
     ]
    }
   ],
   "source": [
    "# Configurando variáveis de controle e inspeção\n",
    "\n",
    "cores = multiprocessing.cpu_count()   #Quantidade de cores utilizados no treinamento\n",
    "\n",
    "t = time()  #Tempo de realização do processo\n",
    "\n",
    "s = 27   #Quantidade de bins para leitura dos arquivos\n",
    "\n",
    "wgt = 0.5\n",
    "\n",
    "#layers = [1, 2, 3]\n",
    "layers = [2]\n",
    "\n",
    "for l in layers:\n",
    "\n",
    "\n",
    "    for n in range(0, s):\n",
    "\n",
    "      #wnd = [9, 11]  #Tamanho da janela\n",
    "      wnd = [5, 7]  #Tamanho da janela\n",
    "      #wnd = [7]\n",
    "\n",
    "\n",
    "      for w in wnd:\n",
    "          print('Trainning model (sentence of bin):', n, ' window:', w)\n",
    "\n",
    "          try:\n",
    "\n",
    "              #Lendo arquivos\n",
    "\n",
    "              #file_name = './Austin/w07/Sentences distance/austin-sl-sentences-n-itdl-'+ str(n) + 'bin-wgt'+str(wgt)+'-wnd' + str(w) + '-d.csv'\n",
    "              file_name = './Austin/w05/Sentences ITDL Partial Bins Single Layers/austin-sl-sentences-n-itdl-'+ str(n) + 'bin-wgt'+str(wgt)+'-wnd' + str(w) + '-l'+str(l)+'.parquet' \n",
    "              #file_name = './Austin/w05/Sentences ITDL Partial Bins/austin-sl-sentences-n-itdl-'+ str(n) + 'bin-wgt'+str(wgt)+'-wnd' + str(w) + '-p.parquet'\n",
    "\n",
    "              #file_name = 'longwood-sl-sentences-n-itdl-'+ str(n) + 'bin-wgt'+str(wgt)+'-context-wnd' + str(w) + '.csv'\n",
    "              #file_name = 'longwood-sl-sentences-n-itdl-'+ str(n) + 'bin-wgt'+str(wgt)+'-context-r-wnd' + str(w) + '.csv'\n",
    "              #file_name = 'yelpcambridge-sl-sentences-n-h-wfx' + str(w) + '.csv'\n",
    "              #file_name = 'yelpcambridge-sl-sentences-n-h-bck-wfx' + str(w) + '.csv'\n",
    "              #file_name = 'yelpdecatur-sl-sentences-n-itdl-'+str(n)+'bin-wg7-bnw.csv'\n",
    "\n",
    "              sentences = pd.read_parquet(file_name)\n",
    "\n",
    "              #Removendo linhas danificadas\n",
    "              sentences = sentences.dropna()\n",
    "\n",
    "              #Calculando o tamanho da janela de sentenças\n",
    "              #windows_size = len(sentences.iloc[0])\n",
    "\n",
    "              #Para versão de sentenças à direita e esquerda\n",
    "              #windows_size = ((len(sentences.iloc[0])-1)/2)\n",
    "\n",
    "              #Para versão de sentenças só à direita\n",
    "              windows_size = (len(sentences.iloc[0])-1)\n",
    "\n",
    "              print(\"window size:\", windows_size, \" sentence size:\", w)\n",
    "              #Transformando dados para o formato do word2vec\n",
    "              sentencesTokenizer = list()\n",
    "              for id, row in sentences.iterrows():\n",
    "                sentencesTokenizer.append(row.tolist())\n",
    "               \n",
    "              #inserindo todas as categorias no vocabulário \n",
    "              sentencesTokenizer.extend(vocabulary)\n",
    "              \n",
    "                \n",
    "              #Criando estrutura do skip-gram\n",
    "              p2v_modelst = Word2Vec(min_count=1,\n",
    "                          window=windows_size,\n",
    "                          size=70,\n",
    "                          sg=1, #Skip-gram\n",
    "                          sample=6e-5, \n",
    "                          alpha=0.03, \n",
    "                          min_alpha=0.0007, \n",
    "                          negative=20,\n",
    "                          workers=cores-1)\n",
    "\n",
    "              #Criando vocubulário\n",
    "              p2v_modelst.build_vocab(sentencesTokenizer, progress_per=10000) #Com Sentinela\n",
    "              #p2v_modelst.build_vocab(sentencesTokenizer, progress_per=10000, trim_rule=deleteSentinel) # Sem sentinela\n",
    "\n",
    "              #Treinando o modelo\n",
    "              p2v_modelst.train(sentencesTokenizer, \n",
    "                                total_examples=p2v_modelst.corpus_count, \n",
    "                                epochs=30, \n",
    "                                report_delay=1)\n",
    "\n",
    "              #Removendo a sentinela\n",
    "              #p2v_modelst.wv.vocab.pop('Sentinel')\n",
    "\n",
    "              #Salvando em arquivo\n",
    "\n",
    "              #model_name = './Austin/w07/Sentences distance/austin-sl-sentences-n-itdl-'+ str(n) + 'bin-wgt'+str(wgt)+'-wnd' + str(w) + '-d.model'\n",
    "              #model_name = './Austin/w05/Sentences distance/austin-sl-sentences-n-itdl-'+ str(n) + 'bin-wgt'+str(wgt)+'-wnd' + str(w) + '-d-s.model'\n",
    "              model_name = './Austin/w05/Sentences ITDL Partial Bins Single Layers/austin-sl-sentences-n-itdl-'+ str(n) + 'bin-wgt'+str(wgt)+'-wnd' + str(w) + '-l' +str(l)+ '-p.model'\n",
    "              #model_name = './Austin/w05/Sentences ITDL Partial Bins/austin-sl-sentences-n-itdl-'+ str(n) + 'bin-wgt'+str(wgt)+'-wnd' + str(w) + '-p.model'\n",
    "              #model_name = './Austin-sb-02/w05/Sentences distance/austin-sl-sentences-n-itdl-'+ str(n) + 'bin-wgt'+str(wgt)+'-wnd' + str(w) + '-l' +str(l)+ '-d-s.model'\n",
    "\n",
    "              #model_name = './Austin-sb/w05/Sentences distance/austin-sl-sentences-n-itdl-'+ str(n) + 'bin-wgt'+str(wgt)+'-wnd' + str(w) + '.model'\n",
    "              #model_name = './Austin-sb/w05/Sentences distance/austin-sl-sentences-n-itdl-'+ str(n) + 'bin-wgt'+str(wgt)+'-wnd' + str(w) + '-l'+str(l)+'.model'\n",
    "\n",
    "              #model_name = 'longwood-sl-sentences-n-itdl-'+ str(n) + 'bin-wgt'+str(wgt)+'-wnd' + str(w) + '-d.model'\n",
    "              #model_name = 'longwood-sl-sentences-n-itdl-'+ str(n) + 'bin-wgt'+str(wgt)+'-context-wnd' + str(w) + '.model'\n",
    "              #model_name = 'longwood-sl-sentences-n-itdl-'+ str(n) + 'bin-wgt'+str(wgt)+'-context-rd-wnd' + str(w) + '.model'\n",
    "              #model_name = 'yelpcambridge-sl-sentences-n-h-wfx' + str(w) + '.model'\n",
    "              #model_name = 'yelpcambridge-sl-sentences-n-h-bck-wfx' + str(w) + '.model'\n",
    "              #model_name = 'yelpdecatur-sl-sentences-n-itdl-'+str(n)+'bin-wg7-bnw.model'\n",
    "\n",
    "              p2v_modelst.save(model_name)\n",
    "\n",
    "          except Exception as e:\n",
    "              print(str(e))\n",
    "                \n",
    "print('process finished.')"
   ]
  },
  {
   "cell_type": "markdown",
   "metadata": {},
   "source": [
    "# Teste de Embedings"
   ]
  },
  {
   "cell_type": "code",
   "execution_count": null,
   "metadata": {},
   "outputs": [],
   "source": [
    "#Parameters\n",
    "n = 0\n",
    "wgt = 0.5\n",
    "wnd = 5\n",
    "osm_table = 'bins_polygons_information'\n",
    "\n",
    "\n",
    "#model_name = './Austin/w05/ITDL Osm Concat Bins/austin-sl-tuple-n-itdl-'+str(n)+'bin-wgt'+str(w)+'-'+str(osm_table)+'.model'\n",
    "model_name = './Austin/w05/ITDL Osm Concat Bins/austin-sl-tuple-n-itdl-0bin-wgt0.5-bins_polygons_information.model'\n",
    "model = Word2Vec.load(model_name)"
   ]
  },
  {
   "cell_type": "code",
   "execution_count": 51,
   "metadata": {},
   "outputs": [
    {
     "data": {
      "text/plain": [
       "0.9125352"
      ]
     },
     "execution_count": 51,
     "metadata": {},
     "output_type": "execute_result"
    }
   ],
   "source": [
    "model.wv.similarity('Playgrounds', 'Parks')"
   ]
  },
  {
   "cell_type": "code",
   "execution_count": 50,
   "metadata": {},
   "outputs": [
    {
     "data": {
      "text/plain": [
       "[('Parks', 0.9125351905822754),\n",
       " ('Day Camps', 0.8820595741271973),\n",
       " ('Kids Activities', 0.8667660355567932),\n",
       " ('Tai Chi', 0.8627614378929138),\n",
       " ('Botanical Gardens', 0.861686646938324),\n",
       " ('Prosthetics', 0.8605790138244629),\n",
       " ('Medical Transportation', 0.8594191670417786),\n",
       " ('Pet Waste Removal', 0.8583695888519287),\n",
       " ('Skating Rinks', 0.8583691120147705),\n",
       " ('Hydro-jetting', 0.85792475938797),\n",
       " ('Swimming Pools', 0.8556530475616455),\n",
       " ('Baseball Fields', 0.8502784371376038),\n",
       " ('Active Life', 0.8501186370849609),\n",
       " ('Blood & Plasma Donation Centers', 0.8494305610656738),\n",
       " ('Tennis', 0.8491591811180115),\n",
       " ('Beaches', 0.8480761647224426),\n",
       " ('Home Staging', 0.8442037105560303),\n",
       " ('Boot Camps', 0.8434141874313354),\n",
       " ('Chicken Wings', 0.842438817024231),\n",
       " ('Pool & Billiards', 0.8389462828636169),\n",
       " ('Smokehouse', 0.8385064005851746),\n",
       " ('Hiking', 0.8384810090065002),\n",
       " ('Calligraphy', 0.8344879746437073),\n",
       " ('Christmas Trees', 0.8333354592323303),\n",
       " ('Private Schools', 0.8329429030418396),\n",
       " ('Game Truck Rental', 0.8328810334205627),\n",
       " ('Water Heater Installation/Repair', 0.8327903151512146),\n",
       " ('Trainers', 0.8309327960014343),\n",
       " ('Professional Sports Teams', 0.8308883905410767),\n",
       " ('Delis', 0.830400824546814),\n",
       " ('Dog Parks', 0.830224871635437),\n",
       " ('Yoga', 0.8300265669822693),\n",
       " ('Cheese Shops', 0.8285619616508484),\n",
       " ('Street Vendors', 0.8279274702072144),\n",
       " ('Lice Services', 0.8276916742324829),\n",
       " ('Septic Services', 0.8272612690925598),\n",
       " ('Irrigation', 0.8252748250961304),\n",
       " ('Grocery', 0.8247586488723755),\n",
       " ('Mortgage Lenders', 0.823280394077301),\n",
       " ('Soccer', 0.822728157043457),\n",
       " ('Pet Transportation', 0.8225902915000916),\n",
       " ('Middle Schools & High Schools', 0.8218590021133423),\n",
       " ('Custom Cakes', 0.8217166662216187),\n",
       " ('Swimming Lessons/Schools', 0.8213878273963928),\n",
       " ('Laotian', 0.8206203579902649),\n",
       " ('Graphic Design', 0.8200015425682068),\n",
       " ('Cultural Center', 0.8185874819755554),\n",
       " ('Race Tracks', 0.818463921546936),\n",
       " ('Cupcakes', 0.8168176412582397),\n",
       " ('Medical Law', 0.8166869282722473),\n",
       " ('Animal Physical Therapy', 0.8166067600250244),\n",
       " ('Sports Clubs', 0.8163577318191528),\n",
       " ('Butcher', 0.8158535957336426),\n",
       " ('Paint-Your-Own Pottery', 0.8157851099967957),\n",
       " ('Concierge Medicine', 0.8154873847961426),\n",
       " ('Sandwiches', 0.8154188394546509),\n",
       " ('Farmers Market', 0.8146414160728455),\n",
       " ('Social Security Law', 0.8135325908660889),\n",
       " ('Golf Lessons', 0.8132269978523254),\n",
       " ('Gyms', 0.8131266236305237),\n",
       " ('Banks & Credit Unions', 0.8118088245391846),\n",
       " ('Preventive Medicine', 0.8117836713790894),\n",
       " ('Weight Loss Centers', 0.8111523389816284),\n",
       " ('Community Centers', 0.8110936284065247),\n",
       " ('Specialty Food', 0.8104242086410522),\n",
       " ('Recreation Centers', 0.810015082359314),\n",
       " ('Fitness & Instruction', 0.8097733855247498),\n",
       " ('Pole Dancing Classes', 0.8079535365104675),\n",
       " ('Vehicle Wraps', 0.8076296448707581),\n",
       " ('Hats', 0.8073851466178894),\n",
       " ('Skate Parks', 0.8072885274887085),\n",
       " ('Dog Walkers', 0.8071684837341309),\n",
       " ('Environmental Testing', 0.8066285848617554),\n",
       " ('Insulation Installation', 0.8064976334571838),\n",
       " ('Investing', 0.8059975504875183),\n",
       " ('Tree Services', 0.8058982491493225),\n",
       " ('Zoos', 0.8052366375923157),\n",
       " ('Tui Na', 0.805137574672699),\n",
       " ('Gastropubs', 0.8044820427894592),\n",
       " ('Water Parks', 0.8039889335632324),\n",
       " ('Truck Rental', 0.8033267855644226),\n",
       " ('Gastroenterologist', 0.803315281867981),\n",
       " ('Cheerleading', 0.8032177090644836),\n",
       " ('Auto Repair', 0.8030984401702881),\n",
       " ('Martial Arts', 0.8028683662414551),\n",
       " ('Livestock Feed & Supply', 0.8025723695755005),\n",
       " ('Pain Management', 0.8022730946540833),\n",
       " ('Workers Compensation Law', 0.8019087314605713),\n",
       " ('Landscaping', 0.8003010153770447),\n",
       " ('Dry Cleaning', 0.7996823787689209),\n",
       " ('Furniture Reupholstery', 0.7996301651000977),\n",
       " ('Mountain Biking', 0.7995955348014832),\n",
       " ('Shaved Snow', 0.7993091940879822),\n",
       " ('Naturopathic/Holistic', 0.7992005348205566),\n",
       " ('Endodontists', 0.7986372709274292),\n",
       " ('Fuel Docks', 0.7984327673912048),\n",
       " ('Musicians', 0.7983388304710388),\n",
       " ('Windows Installation', 0.7980355620384216),\n",
       " ('Southern', 0.7972965240478516),\n",
       " ('Amateur Sports Teams', 0.7972345948219299)]"
      ]
     },
     "execution_count": 50,
     "metadata": {},
     "output_type": "execute_result"
    }
   ],
   "source": [
    "model.wv.most_similar(positive=['Playgrounds'], topn=100)"
   ]
  },
  {
   "cell_type": "code",
   "execution_count": 79,
   "metadata": {},
   "outputs": [],
   "source": [
    "sentences = [['Shopping', 'amenity_parking'],\n",
    " ['Shopping', 'amenity_parking'],\n",
    " ['Shopping', 'building_commercial'],\n",
    " ['Shopping', 'building_commercial'],\n",
    " ['Shopping', 'amenity_parking'],\n",
    " ['Shopping', 'amenity_parking'],\n",
    " ['Shopping', 'building_commercial'],\n",
    " ['Shopping', 'amenity_parking'],\n",
    " ['Shopping', 'amenity_parking'],\n",
    " ['Jewelry Repair', 'amenity_parking'],\n",
    " ['Jewelry Repair', 'amenity_parking'],\n",
    " ['Jewelry Repair', 'building_commercial'],\n",
    " ['Jewelry Repair', 'building_commercial'],\n",
    " ['Jewelry Repair', 'amenity_parking'],\n",
    " ['Jewelry Repair', 'amenity_parking'],\n",
    " ['Jewelry Repair', 'building_commercial'],\n",
    " ['Jewelry Repair', 'amenity_parking'],\n",
    " ['Jewelry Repair', 'amenity_parking'],\n",
    " ['Appraisal Services', 'amenity_parking'],\n",
    " ['Appraisal Services', 'amenity_parking'],\n",
    " ['Appraisal Services', 'building_commercial'],\n",
    " ['Appraisal Services', 'building_commercial'],\n",
    " ['Appraisal Services', 'amenity_parking'],\n",
    " ['Appraisal Services', 'amenity_parking'],\n",
    " ['Appraisal Services', 'building_commercial'],\n",
    " ['Appraisal Services', 'amenity_parking'],\n",
    " ['Appraisal Services', 'amenity_parking'],\n",
    " ['Local Services', 'amenity_parking'],\n",
    " ['Local Services', 'amenity_parking'],\n",
    " ['Local Services', 'building_commercial']]\n",
    "model = Word2Vec(sentences, min_count=1, window=1, size=70, sg=1)"
   ]
  },
  {
   "cell_type": "code",
   "execution_count": 80,
   "metadata": {},
   "outputs": [
    {
     "data": {
      "text/plain": [
       "[('Appraisal Services', 0.12836101651191711),\n",
       " ('Jewelry Repair', 0.10327723622322083),\n",
       " ('Local Services', 0.06813202798366547),\n",
       " ('building_commercial', 0.0017136335372924805),\n",
       " ('amenity_parking', -0.15231953561306)]"
      ]
     },
     "execution_count": 80,
     "metadata": {},
     "output_type": "execute_result"
    }
   ],
   "source": [
    "model.wv.most_similar(positive=['Shopping'])"
   ]
  },
  {
   "cell_type": "code",
   "execution_count": 81,
   "metadata": {},
   "outputs": [
    {
     "data": {
      "text/plain": [
       "[('amenity_parking', 0.16666926),\n",
       " ('Appraisal Services', 0.16666739),\n",
       " ('building_commercial', 0.16666718),\n",
       " ('Local Services', 0.16666552),\n",
       " ('Jewelry Repair', 0.16666542),\n",
       " ('Shopping', 0.1666652)]"
      ]
     },
     "execution_count": 81,
     "metadata": {},
     "output_type": "execute_result"
    }
   ],
   "source": [
    "model.predict_output_word(['Local Services'], topn=10)"
   ]
  },
  {
   "cell_type": "code",
   "execution_count": null,
   "metadata": {},
   "outputs": [],
   "source": []
  }
 ],
 "metadata": {
  "colab": {
   "collapsed_sections": [
    "xHloq6HRom6U",
    "AzIzOXRdn10p"
   ],
   "name": "Place2Vec  - Model Trainning.ipynb",
   "provenance": [],
   "toc_visible": true
  },
  "kernelspec": {
   "display_name": "Python 3",
   "language": "python",
   "name": "python3"
  },
  "language_info": {
   "codemirror_mode": {
    "name": "ipython",
    "version": 3
   },
   "file_extension": ".py",
   "mimetype": "text/x-python",
   "name": "python",
   "nbconvert_exporter": "python",
   "pygments_lexer": "ipython3",
   "version": "3.8.8"
  }
 },
 "nbformat": 4,
 "nbformat_minor": 1
}
